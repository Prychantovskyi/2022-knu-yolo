{
 "cells": [
  {
   "cell_type": "markdown",
   "metadata": {
    "id": "MMAXD2Bg3fAl"
   },
   "source": [
    "### Kaggle Competition | Titanic Machine Learning from Disaster\n",
    "\n",
    ">The sinking of the RMS Titanic is one of the most infamous shipwrecks in history.  On April 15, 1912, during her maiden voyage, the Titanic sank after colliding with an iceberg, killing 1502 out of 2224 passengers and crew.  This sensational tragedy shocked the international community and led to better safety regulations for ships.\n",
    "\n",
    ">One of the reasons that the shipwreck led to such loss of life was that there were not enough lifeboats for the passengers and crew.  Although there was some element of luck involved in surviving the sinking, some groups of people were more likely to survive than others, such as women, children, and the upper-class.\n",
    "\n",
    ">In this contest, we ask you to complete the analysis of what sorts of people were likely to survive.  In particular, we ask you to apply the tools of machine learning to predict which passengers survived the tragedy.\n",
    "\n",
    ">This Kaggle Getting Started Competition provides an ideal starting place for people who may not have a lot of experience in data science and machine learning.\"\n",
    "\n",
    "From the competition [homepage](http://www.kaggle.com/c/titanic-gettingStarted).\n",
    "\n",
    "\n",
    "### Goal for this Notebook:\n",
    "Make a simple analysis of the Titanic disaster in Python using a full complement of PyData utilities.\n",
    "\n",
    "#### Required Libraries:\n",
    "* [NumPy](http://www.numpy.org/)\n",
    "* [IPython](http://ipython.org/)\n",
    "* [Pandas](http://pandas.pydata.org/)\n",
    "* [SciKit-Learn](http://scikit-learn.org/stable/)\n",
    "* [SciPy](http://www.scipy.org/)\n",
    "* [Matplotlib](http://matplotlib.org/)\n",
    "\n",
    "***The competition's website is located on [Kaggle.com](http://www.kaggle.com/c/titanic-gettingStarted).***"
   ]
  },
  {
   "cell_type": "code",
   "execution_count": 1,
   "metadata": {
    "id": "fQey2NMy3fAw"
   },
   "outputs": [],
   "source": [
    "import matplotlib.pyplot as plt\n",
    "%matplotlib inline\n",
    "import numpy as np\n",
    "import pandas as pd\n",
    "import seaborn as sns\n",
    "from sklearn.preprocessing import OneHotEncoder\n",
    "from sklearn.preprocessing import StandardScaler\n",
    "from sklearn.svm import SVC\n",
    "from sklearn.linear_model import LogisticRegression\n",
    "from sklearn.ensemble import RandomForestClassifier"
   ]
  },
  {
   "cell_type": "markdown",
   "metadata": {
    "id": "bhp18NQo3fAy"
   },
   "source": [
    "### Data Handling\n",
    "#### Read data (training set) in using pandas:"
   ]
  },
  {
   "cell_type": "code",
   "execution_count": 2,
   "metadata": {
    "id": "J5LILRd_8NO5"
   },
   "outputs": [],
   "source": [
    "df = pd.read_csv(\"train.csv\")"
   ]
  },
  {
   "cell_type": "markdown",
   "metadata": {
    "id": "n5eT1bfh3fA0"
   },
   "source": [
    "Show an overview of our data: "
   ]
  },
  {
   "cell_type": "code",
   "execution_count": 3,
   "metadata": {
    "id": "YNTiYmrA3fA1"
   },
   "outputs": [
    {
     "data": {
      "text/html": [
       "<div>\n",
       "<style scoped>\n",
       "    .dataframe tbody tr th:only-of-type {\n",
       "        vertical-align: middle;\n",
       "    }\n",
       "\n",
       "    .dataframe tbody tr th {\n",
       "        vertical-align: top;\n",
       "    }\n",
       "\n",
       "    .dataframe thead th {\n",
       "        text-align: right;\n",
       "    }\n",
       "</style>\n",
       "<table border=\"1\" class=\"dataframe\">\n",
       "  <thead>\n",
       "    <tr style=\"text-align: right;\">\n",
       "      <th></th>\n",
       "      <th>PassengerId</th>\n",
       "      <th>Survived</th>\n",
       "      <th>Pclass</th>\n",
       "      <th>Name</th>\n",
       "      <th>Sex</th>\n",
       "      <th>Age</th>\n",
       "      <th>SibSp</th>\n",
       "      <th>Parch</th>\n",
       "      <th>Ticket</th>\n",
       "      <th>Fare</th>\n",
       "      <th>Cabin</th>\n",
       "      <th>Embarked</th>\n",
       "    </tr>\n",
       "  </thead>\n",
       "  <tbody>\n",
       "    <tr>\n",
       "      <th>0</th>\n",
       "      <td>1</td>\n",
       "      <td>0</td>\n",
       "      <td>3</td>\n",
       "      <td>Braund, Mr. Owen Harris</td>\n",
       "      <td>male</td>\n",
       "      <td>22.0</td>\n",
       "      <td>1</td>\n",
       "      <td>0</td>\n",
       "      <td>A/5 21171</td>\n",
       "      <td>7.2500</td>\n",
       "      <td>NaN</td>\n",
       "      <td>S</td>\n",
       "    </tr>\n",
       "    <tr>\n",
       "      <th>1</th>\n",
       "      <td>2</td>\n",
       "      <td>1</td>\n",
       "      <td>1</td>\n",
       "      <td>Cumings, Mrs. John Bradley (Florence Briggs Th...</td>\n",
       "      <td>female</td>\n",
       "      <td>38.0</td>\n",
       "      <td>1</td>\n",
       "      <td>0</td>\n",
       "      <td>PC 17599</td>\n",
       "      <td>71.2833</td>\n",
       "      <td>C85</td>\n",
       "      <td>C</td>\n",
       "    </tr>\n",
       "    <tr>\n",
       "      <th>2</th>\n",
       "      <td>3</td>\n",
       "      <td>1</td>\n",
       "      <td>3</td>\n",
       "      <td>Heikkinen, Miss. Laina</td>\n",
       "      <td>female</td>\n",
       "      <td>26.0</td>\n",
       "      <td>0</td>\n",
       "      <td>0</td>\n",
       "      <td>STON/O2. 3101282</td>\n",
       "      <td>7.9250</td>\n",
       "      <td>NaN</td>\n",
       "      <td>S</td>\n",
       "    </tr>\n",
       "    <tr>\n",
       "      <th>3</th>\n",
       "      <td>4</td>\n",
       "      <td>1</td>\n",
       "      <td>1</td>\n",
       "      <td>Futrelle, Mrs. Jacques Heath (Lily May Peel)</td>\n",
       "      <td>female</td>\n",
       "      <td>35.0</td>\n",
       "      <td>1</td>\n",
       "      <td>0</td>\n",
       "      <td>113803</td>\n",
       "      <td>53.1000</td>\n",
       "      <td>C123</td>\n",
       "      <td>S</td>\n",
       "    </tr>\n",
       "    <tr>\n",
       "      <th>4</th>\n",
       "      <td>5</td>\n",
       "      <td>0</td>\n",
       "      <td>3</td>\n",
       "      <td>Allen, Mr. William Henry</td>\n",
       "      <td>male</td>\n",
       "      <td>35.0</td>\n",
       "      <td>0</td>\n",
       "      <td>0</td>\n",
       "      <td>373450</td>\n",
       "      <td>8.0500</td>\n",
       "      <td>NaN</td>\n",
       "      <td>S</td>\n",
       "    </tr>\n",
       "    <tr>\n",
       "      <th>...</th>\n",
       "      <td>...</td>\n",
       "      <td>...</td>\n",
       "      <td>...</td>\n",
       "      <td>...</td>\n",
       "      <td>...</td>\n",
       "      <td>...</td>\n",
       "      <td>...</td>\n",
       "      <td>...</td>\n",
       "      <td>...</td>\n",
       "      <td>...</td>\n",
       "      <td>...</td>\n",
       "      <td>...</td>\n",
       "    </tr>\n",
       "    <tr>\n",
       "      <th>886</th>\n",
       "      <td>887</td>\n",
       "      <td>0</td>\n",
       "      <td>2</td>\n",
       "      <td>Montvila, Rev. Juozas</td>\n",
       "      <td>male</td>\n",
       "      <td>27.0</td>\n",
       "      <td>0</td>\n",
       "      <td>0</td>\n",
       "      <td>211536</td>\n",
       "      <td>13.0000</td>\n",
       "      <td>NaN</td>\n",
       "      <td>S</td>\n",
       "    </tr>\n",
       "    <tr>\n",
       "      <th>887</th>\n",
       "      <td>888</td>\n",
       "      <td>1</td>\n",
       "      <td>1</td>\n",
       "      <td>Graham, Miss. Margaret Edith</td>\n",
       "      <td>female</td>\n",
       "      <td>19.0</td>\n",
       "      <td>0</td>\n",
       "      <td>0</td>\n",
       "      <td>112053</td>\n",
       "      <td>30.0000</td>\n",
       "      <td>B42</td>\n",
       "      <td>S</td>\n",
       "    </tr>\n",
       "    <tr>\n",
       "      <th>888</th>\n",
       "      <td>889</td>\n",
       "      <td>0</td>\n",
       "      <td>3</td>\n",
       "      <td>Johnston, Miss. Catherine Helen \"Carrie\"</td>\n",
       "      <td>female</td>\n",
       "      <td>NaN</td>\n",
       "      <td>1</td>\n",
       "      <td>2</td>\n",
       "      <td>W./C. 6607</td>\n",
       "      <td>23.4500</td>\n",
       "      <td>NaN</td>\n",
       "      <td>S</td>\n",
       "    </tr>\n",
       "    <tr>\n",
       "      <th>889</th>\n",
       "      <td>890</td>\n",
       "      <td>1</td>\n",
       "      <td>1</td>\n",
       "      <td>Behr, Mr. Karl Howell</td>\n",
       "      <td>male</td>\n",
       "      <td>26.0</td>\n",
       "      <td>0</td>\n",
       "      <td>0</td>\n",
       "      <td>111369</td>\n",
       "      <td>30.0000</td>\n",
       "      <td>C148</td>\n",
       "      <td>C</td>\n",
       "    </tr>\n",
       "    <tr>\n",
       "      <th>890</th>\n",
       "      <td>891</td>\n",
       "      <td>0</td>\n",
       "      <td>3</td>\n",
       "      <td>Dooley, Mr. Patrick</td>\n",
       "      <td>male</td>\n",
       "      <td>32.0</td>\n",
       "      <td>0</td>\n",
       "      <td>0</td>\n",
       "      <td>370376</td>\n",
       "      <td>7.7500</td>\n",
       "      <td>NaN</td>\n",
       "      <td>Q</td>\n",
       "    </tr>\n",
       "  </tbody>\n",
       "</table>\n",
       "<p>891 rows × 12 columns</p>\n",
       "</div>"
      ],
      "text/plain": [
       "     PassengerId  Survived  Pclass  \\\n",
       "0              1         0       3   \n",
       "1              2         1       1   \n",
       "2              3         1       3   \n",
       "3              4         1       1   \n",
       "4              5         0       3   \n",
       "..           ...       ...     ...   \n",
       "886          887         0       2   \n",
       "887          888         1       1   \n",
       "888          889         0       3   \n",
       "889          890         1       1   \n",
       "890          891         0       3   \n",
       "\n",
       "                                                  Name     Sex   Age  SibSp  \\\n",
       "0                              Braund, Mr. Owen Harris    male  22.0      1   \n",
       "1    Cumings, Mrs. John Bradley (Florence Briggs Th...  female  38.0      1   \n",
       "2                               Heikkinen, Miss. Laina  female  26.0      0   \n",
       "3         Futrelle, Mrs. Jacques Heath (Lily May Peel)  female  35.0      1   \n",
       "4                             Allen, Mr. William Henry    male  35.0      0   \n",
       "..                                                 ...     ...   ...    ...   \n",
       "886                              Montvila, Rev. Juozas    male  27.0      0   \n",
       "887                       Graham, Miss. Margaret Edith  female  19.0      0   \n",
       "888           Johnston, Miss. Catherine Helen \"Carrie\"  female   NaN      1   \n",
       "889                              Behr, Mr. Karl Howell    male  26.0      0   \n",
       "890                                Dooley, Mr. Patrick    male  32.0      0   \n",
       "\n",
       "     Parch            Ticket     Fare Cabin Embarked  \n",
       "0        0         A/5 21171   7.2500   NaN        S  \n",
       "1        0          PC 17599  71.2833   C85        C  \n",
       "2        0  STON/O2. 3101282   7.9250   NaN        S  \n",
       "3        0            113803  53.1000  C123        S  \n",
       "4        0            373450   8.0500   NaN        S  \n",
       "..     ...               ...      ...   ...      ...  \n",
       "886      0            211536  13.0000   NaN        S  \n",
       "887      0            112053  30.0000   B42        S  \n",
       "888      2        W./C. 6607  23.4500   NaN        S  \n",
       "889      0            111369  30.0000  C148        C  \n",
       "890      0            370376   7.7500   NaN        Q  \n",
       "\n",
       "[891 rows x 12 columns]"
      ]
     },
     "execution_count": 3,
     "metadata": {},
     "output_type": "execute_result"
    }
   ],
   "source": [
    "df "
   ]
  },
  {
   "cell_type": "markdown",
   "metadata": {
    "id": "ad27EQkf3fA3"
   },
   "source": [
    "### Learn more about the data:\n",
    "\n",
    "Above is a summary of data contained in a `Pandas` `DataFrame`. Think of a `DataFrame` as a Python's super charged version of the workflow in an Excel table. As you can see the summary holds quite a bit of information. First, it lets us know we have 891 observations, or passengers, to analyze here.\n",
    "\n",
    "Next it shows us all of the columns in `DataFrame`. Each column tells us something about each of our observations, like their `name`, `sex` or `age`. These colunms  are called a features of our dataset. You can think of the meaning of the words column and feature as interchangeable for this notebook. \n",
    "\n",
    "After each feature it lets us know how many values it contains. While most of our features have complete data on every observation, like the `survived` feature here: \n",
    "\n",
    "    survived    891  non-null values \n",
    "\n",
    "some are missing information, like the `age` feature: \n",
    "\n",
    "    age         714  non-null values \n",
    "\n",
    "These missing values are represented as `NaN`s.\n",
    "\n",
    "### Take care of missing values:\n",
    "The features `ticket` and `cabin` have many missing values and so can’t add much value to our analysis. To handle this we will drop them from the dataframe to preserve the integrity of our dataset. Drop waste features.\n",
    "\n",
    "Also remove NaN values from each remaining column / feature.\n",
    "\n",
    "Now we have a clean and tidy dataset that is ready for analysis. \n",
    "\n"
   ]
  },
  {
   "cell_type": "code",
   "execution_count": 4,
   "metadata": {
    "id": "EMZbA3Aw3fA5"
   },
   "outputs": [],
   "source": [
    "# Remove ticket and cabin features\n",
    "del df[\"Ticket\"]\n",
    "del df[\"Cabin\"]"
   ]
  },
  {
   "cell_type": "code",
   "execution_count": 5,
   "metadata": {},
   "outputs": [
    {
     "data": {
      "text/html": [
       "<div>\n",
       "<style scoped>\n",
       "    .dataframe tbody tr th:only-of-type {\n",
       "        vertical-align: middle;\n",
       "    }\n",
       "\n",
       "    .dataframe tbody tr th {\n",
       "        vertical-align: top;\n",
       "    }\n",
       "\n",
       "    .dataframe thead th {\n",
       "        text-align: right;\n",
       "    }\n",
       "</style>\n",
       "<table border=\"1\" class=\"dataframe\">\n",
       "  <thead>\n",
       "    <tr style=\"text-align: right;\">\n",
       "      <th></th>\n",
       "      <th>PassengerId</th>\n",
       "      <th>Survived</th>\n",
       "      <th>Pclass</th>\n",
       "      <th>Name</th>\n",
       "      <th>Sex</th>\n",
       "      <th>Age</th>\n",
       "      <th>SibSp</th>\n",
       "      <th>Parch</th>\n",
       "      <th>Fare</th>\n",
       "      <th>Embarked</th>\n",
       "    </tr>\n",
       "  </thead>\n",
       "  <tbody>\n",
       "    <tr>\n",
       "      <th>0</th>\n",
       "      <td>1</td>\n",
       "      <td>0</td>\n",
       "      <td>3</td>\n",
       "      <td>Braund, Mr. Owen Harris</td>\n",
       "      <td>male</td>\n",
       "      <td>22.0</td>\n",
       "      <td>1</td>\n",
       "      <td>0</td>\n",
       "      <td>7.2500</td>\n",
       "      <td>S</td>\n",
       "    </tr>\n",
       "    <tr>\n",
       "      <th>1</th>\n",
       "      <td>2</td>\n",
       "      <td>1</td>\n",
       "      <td>1</td>\n",
       "      <td>Cumings, Mrs. John Bradley (Florence Briggs Th...</td>\n",
       "      <td>female</td>\n",
       "      <td>38.0</td>\n",
       "      <td>1</td>\n",
       "      <td>0</td>\n",
       "      <td>71.2833</td>\n",
       "      <td>C</td>\n",
       "    </tr>\n",
       "    <tr>\n",
       "      <th>2</th>\n",
       "      <td>3</td>\n",
       "      <td>1</td>\n",
       "      <td>3</td>\n",
       "      <td>Heikkinen, Miss. Laina</td>\n",
       "      <td>female</td>\n",
       "      <td>26.0</td>\n",
       "      <td>0</td>\n",
       "      <td>0</td>\n",
       "      <td>7.9250</td>\n",
       "      <td>S</td>\n",
       "    </tr>\n",
       "    <tr>\n",
       "      <th>3</th>\n",
       "      <td>4</td>\n",
       "      <td>1</td>\n",
       "      <td>1</td>\n",
       "      <td>Futrelle, Mrs. Jacques Heath (Lily May Peel)</td>\n",
       "      <td>female</td>\n",
       "      <td>35.0</td>\n",
       "      <td>1</td>\n",
       "      <td>0</td>\n",
       "      <td>53.1000</td>\n",
       "      <td>S</td>\n",
       "    </tr>\n",
       "    <tr>\n",
       "      <th>4</th>\n",
       "      <td>5</td>\n",
       "      <td>0</td>\n",
       "      <td>3</td>\n",
       "      <td>Allen, Mr. William Henry</td>\n",
       "      <td>male</td>\n",
       "      <td>35.0</td>\n",
       "      <td>0</td>\n",
       "      <td>0</td>\n",
       "      <td>8.0500</td>\n",
       "      <td>S</td>\n",
       "    </tr>\n",
       "    <tr>\n",
       "      <th>...</th>\n",
       "      <td>...</td>\n",
       "      <td>...</td>\n",
       "      <td>...</td>\n",
       "      <td>...</td>\n",
       "      <td>...</td>\n",
       "      <td>...</td>\n",
       "      <td>...</td>\n",
       "      <td>...</td>\n",
       "      <td>...</td>\n",
       "      <td>...</td>\n",
       "    </tr>\n",
       "    <tr>\n",
       "      <th>885</th>\n",
       "      <td>886</td>\n",
       "      <td>0</td>\n",
       "      <td>3</td>\n",
       "      <td>Rice, Mrs. William (Margaret Norton)</td>\n",
       "      <td>female</td>\n",
       "      <td>39.0</td>\n",
       "      <td>0</td>\n",
       "      <td>5</td>\n",
       "      <td>29.1250</td>\n",
       "      <td>Q</td>\n",
       "    </tr>\n",
       "    <tr>\n",
       "      <th>886</th>\n",
       "      <td>887</td>\n",
       "      <td>0</td>\n",
       "      <td>2</td>\n",
       "      <td>Montvila, Rev. Juozas</td>\n",
       "      <td>male</td>\n",
       "      <td>27.0</td>\n",
       "      <td>0</td>\n",
       "      <td>0</td>\n",
       "      <td>13.0000</td>\n",
       "      <td>S</td>\n",
       "    </tr>\n",
       "    <tr>\n",
       "      <th>887</th>\n",
       "      <td>888</td>\n",
       "      <td>1</td>\n",
       "      <td>1</td>\n",
       "      <td>Graham, Miss. Margaret Edith</td>\n",
       "      <td>female</td>\n",
       "      <td>19.0</td>\n",
       "      <td>0</td>\n",
       "      <td>0</td>\n",
       "      <td>30.0000</td>\n",
       "      <td>S</td>\n",
       "    </tr>\n",
       "    <tr>\n",
       "      <th>889</th>\n",
       "      <td>890</td>\n",
       "      <td>1</td>\n",
       "      <td>1</td>\n",
       "      <td>Behr, Mr. Karl Howell</td>\n",
       "      <td>male</td>\n",
       "      <td>26.0</td>\n",
       "      <td>0</td>\n",
       "      <td>0</td>\n",
       "      <td>30.0000</td>\n",
       "      <td>C</td>\n",
       "    </tr>\n",
       "    <tr>\n",
       "      <th>890</th>\n",
       "      <td>891</td>\n",
       "      <td>0</td>\n",
       "      <td>3</td>\n",
       "      <td>Dooley, Mr. Patrick</td>\n",
       "      <td>male</td>\n",
       "      <td>32.0</td>\n",
       "      <td>0</td>\n",
       "      <td>0</td>\n",
       "      <td>7.7500</td>\n",
       "      <td>Q</td>\n",
       "    </tr>\n",
       "  </tbody>\n",
       "</table>\n",
       "<p>712 rows × 10 columns</p>\n",
       "</div>"
      ],
      "text/plain": [
       "     PassengerId  Survived  Pclass  \\\n",
       "0              1         0       3   \n",
       "1              2         1       1   \n",
       "2              3         1       3   \n",
       "3              4         1       1   \n",
       "4              5         0       3   \n",
       "..           ...       ...     ...   \n",
       "885          886         0       3   \n",
       "886          887         0       2   \n",
       "887          888         1       1   \n",
       "889          890         1       1   \n",
       "890          891         0       3   \n",
       "\n",
       "                                                  Name     Sex   Age  SibSp  \\\n",
       "0                              Braund, Mr. Owen Harris    male  22.0      1   \n",
       "1    Cumings, Mrs. John Bradley (Florence Briggs Th...  female  38.0      1   \n",
       "2                               Heikkinen, Miss. Laina  female  26.0      0   \n",
       "3         Futrelle, Mrs. Jacques Heath (Lily May Peel)  female  35.0      1   \n",
       "4                             Allen, Mr. William Henry    male  35.0      0   \n",
       "..                                                 ...     ...   ...    ...   \n",
       "885               Rice, Mrs. William (Margaret Norton)  female  39.0      0   \n",
       "886                              Montvila, Rev. Juozas    male  27.0      0   \n",
       "887                       Graham, Miss. Margaret Edith  female  19.0      0   \n",
       "889                              Behr, Mr. Karl Howell    male  26.0      0   \n",
       "890                                Dooley, Mr. Patrick    male  32.0      0   \n",
       "\n",
       "     Parch     Fare Embarked  \n",
       "0        0   7.2500        S  \n",
       "1        0  71.2833        C  \n",
       "2        0   7.9250        S  \n",
       "3        0  53.1000        S  \n",
       "4        0   8.0500        S  \n",
       "..     ...      ...      ...  \n",
       "885      5  29.1250        Q  \n",
       "886      0  13.0000        S  \n",
       "887      0  30.0000        S  \n",
       "889      0  30.0000        C  \n",
       "890      0   7.7500        Q  \n",
       "\n",
       "[712 rows x 10 columns]"
      ]
     },
     "execution_count": 5,
     "metadata": {},
     "output_type": "execute_result"
    }
   ],
   "source": [
    "# Remove NaN values\n",
    "df.dropna(inplace=True)\n",
    "df"
   ]
  },
  {
   "cell_type": "code",
   "execution_count": 6,
   "metadata": {
    "id": "4i8syK1K8lZf"
   },
   "outputs": [],
   "source": [
    "# Don't touch this cell\n",
    "assert \"ticket\" not in df.columns\n",
    "assert \"cabin\" not in df.columns\n",
    "assert df.isna().sum().sum() == 0"
   ]
  },
  {
   "cell_type": "markdown",
   "metadata": {
    "id": "jLG-xK5t3fA6"
   },
   "source": [
    "For a detailed look at how to use pandas for data analysis, the best resource is Wes Mckinney's [book](http://shop.oreilly.com/product/0636920023784.do). Additional interactive tutorials that cover all of the basics can be found [here](https://bitbucket.org/hrojas/learn-pandas) (they're free).  If you still need to be convinced about the power of pandas check out this wirlwhind [look](http://wesmckinney.com/blog/?p=647) at all that pandas can do. "
   ]
  },
  {
   "cell_type": "markdown",
   "metadata": {
    "id": "4p5-6okC3fA7"
   },
   "source": [
    "### Let's take a Look at our data graphically:\n",
    "\n",
    "Plot 5 graphs in this section:\n",
    "\n",
    "\n",
    "1.   Plots a bar graph of those who survived vs those who did not. \n",
    "2.   Plots a Scatterplot of Survived distribution by Age\n",
    "3.   Plots a bar graph of Class distribution\n",
    "4.   Plots kernel density estimate of the passengers's age separately for all 3 classes\n",
    "5.   Plots a bar graph of passengers per boarding location\n",
    "\n"
   ]
  },
  {
   "cell_type": "code",
   "execution_count": 7,
   "metadata": {
    "id": "tMdpxz7J3fA8"
   },
   "outputs": [
    {
     "name": "stdout",
     "output_type": "stream",
     "text": [
      "[184, 173, 355]\n"
     ]
    }
   ],
   "source": [
    "import collections\n",
    "\n",
    "column = df['Pclass']\n",
    "duplicates = collections.Counter(column)\n",
    "\n",
    "count = []\n",
    "for i in range(len(duplicates)):\n",
    "    count.append(duplicates.get(i+1))\n",
    "print(count)\n",
    "\n",
    "_Data = {'Pclass_': [\"1\",\"2\",\"3\"],\n",
    "        'Count': count\n",
    "       }\n",
    "df1 = pd.DataFrame(_Data,columns=['Pclass_','Count'])"
   ]
  },
  {
   "cell_type": "code",
   "execution_count": 8,
   "metadata": {},
   "outputs": [],
   "source": [
    "bebra = df['Embarked'].value_counts()\n",
    "_data = {'Embarked_': [\"S\",\"C\",\"Q\"],\n",
    "        'Count': bebra}\n",
    "df2 = pd.DataFrame(_data, columns= [\"Embarked_\",\"Count\"])"
   ]
  },
  {
   "cell_type": "code",
   "execution_count": 9,
   "metadata": {},
   "outputs": [],
   "source": [
    "survived = df['Survived'].value_counts()"
   ]
  },
  {
   "cell_type": "code",
   "execution_count": 10,
   "metadata": {},
   "outputs": [
    {
     "data": {
      "image/png": "[encoded data removed]",
      "text/plain": [
       "<Figure size 1350x675 with 5 Axes>"
      ]
     },
     "metadata": {
      "needs_background": "light"
     },
     "output_type": "display_data"
    }
   ],
   "source": [
    "#matplotlib\n",
    "\n",
    "fig = plt.figure(figsize=(18,9), dpi=75) \n",
    "alpha=alpha_scatterplot = 0.2 \n",
    "alpha_bar_chart = 0.55\n",
    "\n",
    "#Plots a bar graph of those who survived vs those who did not.\n",
    "ax1 = plt.subplot2grid((3, 3), (0, 0), colspan=2)\n",
    "plt.xlabel(\"Survival\")\n",
    "plt.ylabel(\"Count\")\n",
    "plt.title(\"Distribution of Survival, (1 = Survived)\") \n",
    "plt.bar([0,1], survived, color ='green', width = 0.1)\n",
    "\n",
    "#Plots a Scatterplot of Survived distribution by Age\n",
    "ax2 = plt.subplot2grid((3, 3), (0, 2), rowspan=3)\n",
    "plt.title(\"Survival by Age,  (1 = Survived)\")\n",
    "plt.xlabel(\"Survival\")\n",
    "plt.ylabel(\"Age\")\n",
    "ax2.scatter(df[\"Survived\"], df[\"Age\"], color='green')        \n",
    "\n",
    "#Plots kernel density estimate of the passengers age separately for all 3 classes\n",
    "ax3 = plt.subplot2grid((3, 3), (1, 0), colspan=2)\n",
    "plt.title(\"Age Distribution within classes\")\n",
    "df.loc[df['Pclass'] == 1].Age.plot.density(color='Blue')\n",
    "df.loc[df['Pclass'] == 2].Age.plot.density(color='Yellow')\n",
    "df.loc[df['Pclass'] == 3].Age.plot.density(color='Green')\n",
    "plt.title('Density plot for Speeding')\n",
    "\n",
    "#Plots a bar graph of Class distribution\n",
    "ax4 = plt.subplot2grid((3, 3), (2, 0))\n",
    "plt.title('Class distribution')\n",
    "plt.xlabel('Pclass')\n",
    "plt.ylabel('Count')\n",
    "plt.bar(df1['Pclass_'], df1['Count'], color=\"green\", width = 0.4)\n",
    "\n",
    "#Plots a bar graph of passengers per boarding location\n",
    "ax5 = plt.subplot2grid((3, 3), (2, 1) )\n",
    "plt.title(\"Passengers per boarding location\")\n",
    "plt.xlabel(\"Embarked\")\n",
    "plt.ylabel(\"Count\")\n",
    "plt.bar(df2['Embarked_'],df2['Count'], color ='green', width = 0.4)\n",
    "\n",
    "plt.subplots_adjust(left=0.1,\n",
    "                    bottom=0.1, \n",
    "                    right=0.9, \n",
    "                    top=0.9, \n",
    "                    wspace=0.4, \n",
    "                    hspace=0.4)\n",
    "\n",
    "plt.show()"
   ]
  },
  {
   "cell_type": "code",
   "execution_count": 11,
   "metadata": {},
   "outputs": [
    {
     "data": {
      "text/plain": [
       "'#seaborn\\nfig = plt.figure(figsize=(18,9), dpi=50) \\nalpha=alpha_scatterplot = 0.2 \\nalpha_bar_chart = 0.55\\n\\nsns.set_palette(\"husl\")\\n\\n#Plots a bar graph of those who survived vs those who did not.\\nsns.countplot(y=\\'Survived\\',data=df, palette = [\"Blue\",\"Yellow\"])\\nplt.show()\\n#Plots a Scatterplot of Survived distribution by Age\\nsns.scatterplot(x = \"Survived\",y = \"Age\", data = df, color= \"Blue\")\\nplt.show()\\n#Plots kernel density estimate of the passengers age separately for all 3 classes\\nsns.kdeplot(data=df, x=\"Age\", hue = \"Pclass\", palette = [\"Blue\",\"Yellow\",\"Green\"] )\\nplt.show()\\n#Plots a bar graph of Class distribution\\nsns.countplot(x=\\'Pclass\\',data=df, palette = [\"Blue\",\"Yellow\",\"Green\"])\\nplt.show()\\n#Plots a bar graph of passengers per boarding location\\nsns.countplot(x=\\'Embarked\\',data=df, palette = [\"Blue\",\"Yellow\",\"Green\"])\\nplt.show()\\n'"
      ]
     },
     "execution_count": 11,
     "metadata": {},
     "output_type": "execute_result"
    }
   ],
   "source": [
    "'''#seaborn\n",
    "fig = plt.figure(figsize=(18,9), dpi=50) \n",
    "alpha=alpha_scatterplot = 0.2 \n",
    "alpha_bar_chart = 0.55\n",
    "\n",
    "sns.set_palette(\"husl\")\n",
    "\n",
    "#Plots a bar graph of those who survived vs those who did not.\n",
    "sns.countplot(y='Survived',data=df, palette = [\"Blue\",\"Yellow\"])\n",
    "plt.show()\n",
    "#Plots a Scatterplot of Survived distribution by Age\n",
    "sns.scatterplot(x = \"Survived\",y = \"Age\", data = df, color= \"Blue\")\n",
    "plt.show()\n",
    "#Plots kernel density estimate of the passengers age separately for all 3 classes\n",
    "sns.kdeplot(data=df, x=\"Age\", hue = \"Pclass\", palette = [\"Blue\",\"Yellow\",\"Green\"] )\n",
    "plt.show()\n",
    "#Plots a bar graph of Class distribution\n",
    "sns.countplot(x='Pclass',data=df, palette = [\"Blue\",\"Yellow\",\"Green\"])\n",
    "plt.show()\n",
    "#Plots a bar graph of passengers per boarding location\n",
    "sns.countplot(x='Embarked',data=df, palette = [\"Blue\",\"Yellow\",\"Green\"])\n",
    "plt.show()\n",
    "'''"
   ]
  },
  {
   "cell_type": "markdown",
   "metadata": {
    "id": "nRihWNpk3fA9"
   },
   "source": [
    "### Exploratory Visualization:\n",
    "\n",
    "The point of this competition is to predict if an individual will survive based on the features in the data like:\n",
    " \n",
    " * Traveling Class (called pclass in the data)\n",
    " * Sex \n",
    " * Age\n",
    " * Fare Price\n",
    "\n",
    "Let’s see if we can gain a better understanding of who survived and died. \n",
    "\n",
    "\n",
    "First plot a bar graph of those who Survived Vs. Those who did not.\n"
   ]
  },
  {
   "cell_type": "code",
   "execution_count": 12,
   "metadata": {
    "id": "-QXHr82g3fA-"
   },
   "outputs": [
    {
     "data": {
      "text/plain": [
       "<AxesSubplot:xlabel='count', ylabel='Survived'>"
      ]
     },
     "execution_count": 12,
     "metadata": {},
     "output_type": "execute_result"
    },
    {
     "data": {
      "image/png": "[encoded data removed]",
      "text/plain": [
       "<Figure size 432x288 with 1 Axes>"
      ]
     },
     "metadata": {
      "needs_background": "light"
     },
     "output_type": "display_data"
    }
   ],
   "source": [
    "sns.countplot(y='Survived',data=df, palette = [\"Blue\",\"Yellow\"])"
   ]
  },
  {
   "cell_type": "markdown",
   "metadata": {
    "id": "-0wome_M3fA-"
   },
   "source": [
    "### Next tease more structure out of the data,\n",
    "### Break the previous graph down by gender\n"
   ]
  },
  {
   "cell_type": "code",
   "execution_count": 13,
   "metadata": {
    "id": "35p8zc7s3fA_"
   },
   "outputs": [
    {
     "data": {
      "image/png": "[encoded data removed]",
      "text/plain": [
       "<Figure size 800x400 with 1 Axes>"
      ]
     },
     "metadata": {
      "needs_background": "light"
     },
     "output_type": "display_data"
    }
   ],
   "source": [
    "# create a plot of two subsets, male and female, of the survived variable.\n",
    "# After that call value_counts() so it can be easily plotted as a bar graph. \n",
    "# you can use kind='barh' argument. It is just a horizontal bar graph\n",
    "\n",
    "# Next adjust graph to display the proportions of survival by gender\n",
    "\n",
    "fig = plt.figure(figsize=(10,5), dpi=80) \n",
    "\n",
    "d1 = [df.loc[df['Sex'] == 'male'].Survived.value_counts()[1], df.loc[df['Sex'] == 'female'].Survived.value_counts()[1]]\n",
    "d2 = [df.loc[df['Sex'] == 'male'].Survived.value_counts()[0], df.loc[df['Sex'] == 'female'].Survived.value_counts()[0]]\n",
    "\n",
    "plt.title(\"plot of two subsets\")\n",
    "plt.bar(pd.unique(df.Sex), d1, color = \"Yellow\")\n",
    "plt.bar(pd.unique(df.Sex), d2, bottom = d1, color = \"Blue\")\n",
    "plt.legend(['Survived', 'Not Survived'])\n",
    "\n",
    "plt.show()"
   ]
  },
  {
   "cell_type": "code",
   "execution_count": 14,
   "metadata": {},
   "outputs": [
    {
     "data": {
      "image/png": "[encoded data removed]",
      "text/plain": [
       "<Figure size 800x400 with 1 Axes>"
      ]
     },
     "metadata": {
      "needs_background": "light"
     },
     "output_type": "display_data"
    }
   ],
   "source": [
    "fig = plt.figure(figsize=(10,5), dpi=80)\n",
    "\n",
    "d1 = [df.loc[df['Sex'] == 'female'].Survived.value_counts()[1]]\n",
    "d2 = [df.loc[df['Sex'] == 'male'].Survived.value_counts()[1]]\n",
    "\n",
    "plt.title(\"Proportions of survival by gender\")\n",
    "plt.bar('Survived', d1, color = \"Yellow\")\n",
    "plt.bar('Survived', d2, bottom = d1, color = \"Blue\")\n",
    "plt.legend(['Female Survived', 'Male Survived'])\n",
    "plt.show()"
   ]
  },
  {
   "cell_type": "code",
   "execution_count": 15,
   "metadata": {},
   "outputs": [
    {
     "data": {
      "image/png": "[encoded data removed]",
      "text/plain": [
       "<Figure size 800x400 with 1 Axes>"
      ]
     },
     "metadata": {
      "needs_background": "light"
     },
     "output_type": "display_data"
    }
   ],
   "source": [
    "fig = plt.figure(figsize=(10,5), dpi=80)\n",
    "\n",
    "d1 = [df.loc[df['Sex'] == 'male'].Survived.value_counts()[1]/453, df.loc[df['Sex'] == 'female'].Survived.value_counts()[1]/259]\n",
    "d2 = [df.loc[df['Sex'] == 'male'].Survived.value_counts()[0]/453, df.loc[df['Sex'] == 'female'].Survived.value_counts()[0]/259]\n",
    "\n",
    "plt.title(\"Two subsets of survivers\")\n",
    "plt.bar(pd.unique(df.Sex), d1, color = \"Yellow\")\n",
    "plt.bar(pd.unique(df.Sex), d2, bottom = d1, color = \"Blue\")\n",
    "plt.legend(['Survived', 'Not Survived'])\n",
    "\n",
    "plt.show()"
   ]
  },
  {
   "cell_type": "markdown",
   "metadata": {
    "id": "sBEcGFBI3fBA"
   },
   "source": [
    "Add your summaryabout recieved data for raw value counts and proportionally\n",
    "\n",
    "З цього можна зробити висновок, що у жінок вище шанс вижити на титаніку ніж у чоловіків.\n",
    "\n",
    "#### Try to go down even further:\n",
    "Can we capture more of the structure by using Pclass? Here try to bucket classes as lowest class or any of the high classes (classes 1 - 2). 3 is lowest class. Break it down by Gender and what Class they were traveling in.\n"
   ]
  },
  {
   "cell_type": "code",
   "execution_count": 16,
   "metadata": {
    "id": "r4jXC0wM3fBA"
   },
   "outputs": [
    {
     "data": {
      "text/plain": [
       "<AxesSubplot:xlabel='count', ylabel='Pclass'>"
      ]
     },
     "execution_count": 16,
     "metadata": {},
     "output_type": "execute_result"
    },
    {
     "data": {
      "image/png": "[encoded data removed]",
      "text/plain": [
       "<Figure size 432x288 with 1 Axes>"
      ]
     },
     "metadata": {
      "needs_background": "light"
     },
     "output_type": "display_data"
    }
   ],
   "source": [
    "sns.countplot(y = \"Pclass\", hue = \"Sex\", data = df, palette = [\"Blue\",\"Yellow\",\"Blue\",\"Yellow\",\"Blue\",\"Yellow\"] )"
   ]
  },
  {
   "cell_type": "code",
   "execution_count": 17,
   "metadata": {},
   "outputs": [
    {
     "data": {
      "image/png": "[encoded data removed]",
      "text/plain": [
       "<Figure size 2160x432 with 1 Axes>"
      ]
     },
     "metadata": {
      "needs_background": "light"
     },
     "output_type": "display_data"
    },
    {
     "data": {
      "image/png": "[encoded data removed]",
      "text/plain": [
       "<Figure size 2160x432 with 1 Axes>"
      ]
     },
     "metadata": {
      "needs_background": "light"
     },
     "output_type": "display_data"
    },
    {
     "data": {
      "image/png": "[encoded data removed]",
      "text/plain": [
       "<Figure size 2160x432 with 1 Axes>"
      ]
     },
     "metadata": {
      "needs_background": "light"
     },
     "output_type": "display_data"
    }
   ],
   "source": [
    "f1 = df.loc[df['Pclass'] == 1].Survived\n",
    "f2 = df.loc[df['Pclass'] == 2].Survived\n",
    "\n",
    "f4 = [pd.concat([f1,f2]).value_counts()[0], df.loc[df['Pclass'] == 3].Survived.value_counts()[0]]\n",
    "f5 = [pd.concat([f1,f2]).value_counts()[1], df.loc[df['Pclass'] == 3].Survived.value_counts()[1]]\n",
    "\n",
    "fig = plt.figure(figsize=(30,6))\n",
    "\n",
    "ax1 = plt.subplot2grid((2,3),(1,2))\n",
    "plt.title(\"1-2 classes & 3 class,  (Prop of surv)\")\n",
    "plt.bar(['1-2 classes', '3 class'], f4, color = 'Yellow')\n",
    "plt.bar(['1-2 classes', '3 class'], f5, bottom = f4, color = 'Blue')\n",
    "plt.legend(['Not Survived', 'Survived'])\n",
    "plt.show()\n",
    "\n",
    "fig = plt.figure(figsize=(30,6))\n",
    "ax2 = plt.subplot2grid((2,3),(1,2))\n",
    "plt.title(\"1-2 classes,  (1 = Survived)\")\n",
    "sns.countplot(x = pd.concat([f1,f2]),hue='Sex',data=df,palette = [\"Blue\",\"Yellow\"])\n",
    "plt.show()\n",
    "\n",
    "fig = plt.figure(figsize=(30,6))\n",
    "ax3 = plt.subplot2grid((2,3),(1,2))\n",
    "plt.title(\"3 class,  (1 = Survived)\")\n",
    "sns.countplot(x = df.loc[df['Pclass'] == 3].Survived ,hue='Sex',data=df,palette = [\"Blue\",\"Yellow\"])\n",
    "plt.show()"
   ]
  },
  {
   "cell_type": "markdown",
   "metadata": {
    "id": "yEZPJBNqFWfq"
   },
   "source": [
    "Try to get a conclusions of the recieved data"
   ]
  },
  {
   "cell_type": "markdown",
   "metadata": {
    "id": "XrSaN1KQ3fn1"
   },
   "source": [
    " # Висновок\n",
    " Видно, що будучи жінкою на \"Титаніку\" шансів вижити було більше ніж у чоловіка. Можна помітити, що чоловіків в 3 класі більше в співвідношенні з жінками відносно інших класів, це можна пояснити тим, що в третьому класі були не тільки відпочиваючі, а ще й робочий клас."
   ]
  },
  {
   "cell_type": "markdown",
   "metadata": {
    "id": "yuV-b-Jvt1PI"
   },
   "source": [
    "## Model train and evaluation\n",
    "\n",
    "\n",
    "For all model at the end, additionaly generate:\n",
    "Normalized Confusion matrix as:\n",
    "```\n",
    "\t\t                 Predicted\n",
    "                     Survive\tNon-Survive\n",
    "Actual    Survive        0.7       0.3\n",
    "          Non-Survive    0.2       0.8\n",
    "```\n",
    "And metrics:\n",
    "```\n",
    "          Metrics\n",
    "Recall    0.2232\n",
    "Precision 0.0597\n",
    "Accuracy  0.2100\n",
    "F1 score  0.0398\n",
    "```"
   ]
  },
  {
   "cell_type": "markdown",
   "metadata": {
    "id": "7MLXksFt3fBD"
   },
   "source": [
    "## Supervised Machine Learning\n",
    "#### Logistic Regression:\n",
    "\n",
    "\n",
    "\n",
    "Task is to predict a binary outcome. That is, it wants to know whether some will die, (represented as a 0), or survive, (represented as 1). A good place to start is to calculate the probability that an individual observation, or person, is likely to be a 0 or 1. That way we would know the chance that someone survives, and could start making somewhat informed predictions. If we did, we'd get results like this:: \n",
    "\n",
    "![pred](https://raw.github.com/agconti/kaggle-titanic/master/images/calc_prob.png) \n",
    "\n",
    "(*Y axis is the probability that someone survives, X axis is the passenger’s number from 1 to 891.*)\n",
    "\n",
    "While that information is useful it doesn’t let us know whether someone ended up alive or dead. It just lets us know the chance that they will survive or die. We still need to translate these probabilities into the binary decision we’re looking for. But how? We could arbitrarily say that our survival cutoff is anyone with a probability of survival over 50%. In fact, this tactic would actually perform pretty well for our data and would allow you to make decently accurate predictions. Graphically it would look something like this:\n",
    "\n",
    "![predwline](https://raw.github.com/agconti/kaggle-titanic/master/images/calc_prob_wline.png)\n",
    "\n",
    "What are the odds that setting that cutoff at 50% works? Maybe 20% or 80% would work better. Clearly we need a more exact way to make that cutoff. What can save the day? In steps the **Logistic Regression**. \n",
    "\n",
    "A logistic regression follows the all steps we took above but mathematically calculates the cutoff, or decision boundary (as stats nerds call it), for you. This way it can figure out the best cut off to choose, perhaps 50% or 51.84%, that most accurately represents the training data.\n",
    "\n",
    "Below, write down the process of creating a Logitist regression model with `LogisticRegression`, training it on the data, and examining its performance."
   ]
  },
  {
   "cell_type": "code",
   "execution_count": 18,
   "metadata": {
    "id": "deeYakrn3fBF"
   },
   "outputs": [
    {
     "data": {
      "text/plain": [
       "<AxesSubplot:>"
      ]
     },
     "execution_count": 18,
     "metadata": {},
     "output_type": "execute_result"
    },
    {
     "data": {
      "image/png": "[encoded data removed]",
      "text/plain": [
       "<Figure size 432x288 with 2 Axes>"
      ]
     },
     "metadata": {
      "needs_background": "light"
     },
     "output_type": "display_data"
    }
   ],
   "source": [
    "# instantiate and fit our model to the training data\n",
    "tr_df = df.copy()\n",
    "tr_df.dtypes\n",
    "\n",
    "ignore_col = [\"PassengerId\", \"Survived\", \"Name\", \"SibSp\", \"Parch\", \"Fare\"]\n",
    "tr_df = tr_df.drop(ignore_col, axis=1)\n",
    "\n",
    "tr_df.replace({'Sex':{'male':0,'female':1}, 'Embarked':{'S':1,'C':2,'Q':3}}, inplace=True)\n",
    "tr_df = tr_df.apply(lambda x: (x-x.min())/(x.max()-x.min())) \n",
    "#print(tr_df)\n",
    "sns.heatmap(tr_df.corr())"
   ]
  },
  {
   "cell_type": "code",
   "execution_count": 19,
   "metadata": {},
   "outputs": [
    {
     "data": {
      "text/html": [
       "<div>\n",
       "<style scoped>\n",
       "    .dataframe tbody tr th:only-of-type {\n",
       "        vertical-align: middle;\n",
       "    }\n",
       "\n",
       "    .dataframe tbody tr th {\n",
       "        vertical-align: top;\n",
       "    }\n",
       "\n",
       "    .dataframe thead th {\n",
       "        text-align: right;\n",
       "    }\n",
       "</style>\n",
       "<table border=\"1\" class=\"dataframe\">\n",
       "  <thead>\n",
       "    <tr style=\"text-align: right;\">\n",
       "      <th></th>\n",
       "      <th>Survived</th>\n",
       "      <th>Pclass</th>\n",
       "      <th>Sex</th>\n",
       "      <th>Age</th>\n",
       "      <th>Embarked</th>\n",
       "    </tr>\n",
       "  </thead>\n",
       "  <tbody>\n",
       "    <tr>\n",
       "      <th>0</th>\n",
       "      <td>0.0</td>\n",
       "      <td>1.0</td>\n",
       "      <td>0.0</td>\n",
       "      <td>0.452723</td>\n",
       "      <td>1.0</td>\n",
       "    </tr>\n",
       "    <tr>\n",
       "      <th>1</th>\n",
       "      <td>1.0</td>\n",
       "      <td>1.0</td>\n",
       "      <td>1.0</td>\n",
       "      <td>0.617566</td>\n",
       "      <td>0.0</td>\n",
       "    </tr>\n",
       "    <tr>\n",
       "      <th>2</th>\n",
       "      <td>0.0</td>\n",
       "      <td>0.5</td>\n",
       "      <td>0.0</td>\n",
       "      <td>0.815377</td>\n",
       "      <td>1.0</td>\n",
       "    </tr>\n",
       "    <tr>\n",
       "      <th>3</th>\n",
       "      <td>0.0</td>\n",
       "      <td>1.0</td>\n",
       "      <td>0.0</td>\n",
       "      <td>0.353818</td>\n",
       "      <td>0.0</td>\n",
       "    </tr>\n",
       "    <tr>\n",
       "      <th>4</th>\n",
       "      <td>1.0</td>\n",
       "      <td>1.0</td>\n",
       "      <td>1.0</td>\n",
       "      <td>0.287881</td>\n",
       "      <td>0.0</td>\n",
       "    </tr>\n",
       "    <tr>\n",
       "      <th>...</th>\n",
       "      <td>...</td>\n",
       "      <td>...</td>\n",
       "      <td>...</td>\n",
       "      <td>...</td>\n",
       "      <td>...</td>\n",
       "    </tr>\n",
       "    <tr>\n",
       "      <th>413</th>\n",
       "      <td>0.0</td>\n",
       "      <td>1.0</td>\n",
       "      <td>0.0</td>\n",
       "      <td>0.396975</td>\n",
       "      <td>0.0</td>\n",
       "    </tr>\n",
       "    <tr>\n",
       "      <th>414</th>\n",
       "      <td>1.0</td>\n",
       "      <td>0.0</td>\n",
       "      <td>1.0</td>\n",
       "      <td>0.512066</td>\n",
       "      <td>0.5</td>\n",
       "    </tr>\n",
       "    <tr>\n",
       "      <th>415</th>\n",
       "      <td>0.0</td>\n",
       "      <td>1.0</td>\n",
       "      <td>0.0</td>\n",
       "      <td>0.505473</td>\n",
       "      <td>0.0</td>\n",
       "    </tr>\n",
       "    <tr>\n",
       "      <th>416</th>\n",
       "      <td>0.0</td>\n",
       "      <td>1.0</td>\n",
       "      <td>0.0</td>\n",
       "      <td>0.396975</td>\n",
       "      <td>0.0</td>\n",
       "    </tr>\n",
       "    <tr>\n",
       "      <th>417</th>\n",
       "      <td>0.0</td>\n",
       "      <td>1.0</td>\n",
       "      <td>0.0</td>\n",
       "      <td>0.396975</td>\n",
       "      <td>0.5</td>\n",
       "    </tr>\n",
       "  </tbody>\n",
       "</table>\n",
       "<p>418 rows × 5 columns</p>\n",
       "</div>"
      ],
      "text/plain": [
       "     Survived  Pclass  Sex       Age  Embarked\n",
       "0         0.0     1.0  0.0  0.452723       1.0\n",
       "1         1.0     1.0  1.0  0.617566       0.0\n",
       "2         0.0     0.5  0.0  0.815377       1.0\n",
       "3         0.0     1.0  0.0  0.353818       0.0\n",
       "4         1.0     1.0  1.0  0.287881       0.0\n",
       "..        ...     ...  ...       ...       ...\n",
       "413       0.0     1.0  0.0  0.396975       0.0\n",
       "414       1.0     0.0  1.0  0.512066       0.5\n",
       "415       0.0     1.0  0.0  0.505473       0.0\n",
       "416       0.0     1.0  0.0  0.396975       0.0\n",
       "417       0.0     1.0  0.0  0.396975       0.5\n",
       "\n",
       "[418 rows x 5 columns]"
      ]
     },
     "execution_count": 19,
     "metadata": {},
     "output_type": "execute_result"
    }
   ],
   "source": [
    "test_df = pd.read_csv(\"test.csv\")\n",
    "gs_df = pd.read_csv(\"gender_submission.csv\")\n",
    "\n",
    "test_data = pd.concat([gs_df, test_df], axis = 1)\n",
    "\n",
    "del test_data[\"Ticket\"]\n",
    "del test_data[\"Cabin\"]\n",
    "#test_data.dropna(inplace=True)\n",
    "\n",
    "\n",
    "\n",
    "ignore_col = [\"PassengerId\", \"Name\", \"SibSp\", \"Parch\", \"Fare\"]\n",
    "\n",
    "test_data = test_data.drop(ignore_col, axis=1)\n",
    "test_data.replace({'Sex':{'male':0,'female':1}, 'Embarked':{'S':1,'C':2,'Q':3}}, inplace=True)\n",
    "\n",
    "test_data[\"Age\"] = test_data[\"Age\"].replace(np.nan,  test_data[\"Age\"].mean()) \n",
    "\n",
    "test_data = test_data.apply(lambda x: (x-x.min())/(x.max()-x.min()))\n",
    "\n",
    "ignore_surv = [\"Survived\"]\n",
    "\n",
    "test_data"
   ]
  },
  {
   "cell_type": "code",
   "execution_count": 20,
   "metadata": {},
   "outputs": [
    {
     "name": "stdout",
     "output_type": "stream",
     "text": [
      "Logistic Regression is 92.344498 percent accurate\n",
      "[[144   8]\n",
      " [ 24 242]]\n",
      "Report : \n",
      "              precision    recall  f1-score   support\n",
      "\n",
      "         0.0       0.97      0.91      0.94       266\n",
      "         1.0       0.86      0.95      0.90       152\n",
      "\n",
      "    accuracy                           0.92       418\n",
      "   macro avg       0.91      0.93      0.92       418\n",
      "weighted avg       0.93      0.92      0.92       418\n",
      "\n"
     ]
    }
   ],
   "source": [
    "from sklearn.model_selection import train_test_split\n",
    "from sklearn.metrics import confusion_matrix \n",
    "from sklearn.metrics import classification_report \n",
    "from sklearn.metrics import accuracy_score\n",
    "\n",
    "scaler = StandardScaler()\n",
    "\n",
    "X_train = scaler.fit_transform(tr_df)\n",
    "X_test = scaler.fit_transform(test_data.drop(ignore_surv, axis = 1))\n",
    "Y_test = test_data.Survived\n",
    "Y_train = list(df.Survived)\n",
    "\n",
    "LR = LogisticRegression()\n",
    "LR_fit = LR.fit(X_train, Y_train)\n",
    "LR_pred = LR_fit.predict(X_test)\n",
    "print(\"Logistic Regression is %f percent accurate\" % (accuracy_score(LR_pred, Y_test)*100))\n",
    "print(confusion_matrix(Y_test, LR_pred, labels = [1, 0]))  \n",
    "print ('Report : ') \n",
    "print (classification_report(Y_test, LR_pred))"
   ]
  },
  {
   "cell_type": "code",
   "execution_count": 21,
   "metadata": {
    "id": "eqP3heYQ3fBF"
   },
   "outputs": [
    {
     "data": {
      "image/png": "[encoded data removed]",
      "text/plain": [
       "<Figure size 432x288 with 2 Axes>"
      ]
     },
     "metadata": {
      "needs_background": "light"
     },
     "output_type": "display_data"
    }
   ],
   "source": [
    "# Plot Predictions Vs Actual\n",
    "\n",
    "confusion = (confusion_matrix(Y_test, LR_pred, labels = [1, 0]))\n",
    "sns.heatmap(confusion, annot=True, fmt=\"d\", yticklabels=[1, 0], xticklabels=[1, 0])\n",
    "plt.show()"
   ]
  },
  {
   "cell_type": "markdown",
   "metadata": {
    "id": "5DKw49Rr3fBL"
   },
   "source": [
    "### Support Vector Machine (SVM)\n",
    "\n",
    "\n",
    "The logit model showed exactly where to draw our decision boundary or our 'survival cut off'. A linear line is okay, but can prediction be better? Perhaps a more complex decision boundary like a wave, circle, or maybe some sort of strange polygon would describe the variance observed in our sample better than a line.\n",
    "\n",
    "Below implement a SVM model based on `sklearn.svm.SVC` and examining the results after the SVM transforms an equation into three different mathematical plains. The first is linear, and is similar to our logic model. Next is an exponential, polynomial, transformation and finally a blank transformation.\n"
   ]
  },
  {
   "cell_type": "code",
   "execution_count": 22,
   "metadata": {
    "id": "2XU5FihKRakX"
   },
   "outputs": [
    {
     "name": "stdout",
     "output_type": "stream",
     "text": [
      "Non Linear SVMs is 87.799043 percent accurate\n",
      "[[105  47]\n",
      " [  4 262]]\n",
      "Report : \n",
      "              precision    recall  f1-score   support\n",
      "\n",
      "         0.0       0.85      0.98      0.91       266\n",
      "         1.0       0.96      0.69      0.80       152\n",
      "\n",
      "    accuracy                           0.88       418\n",
      "   macro avg       0.91      0.84      0.86       418\n",
      "weighted avg       0.89      0.88      0.87       418\n",
      "\n"
     ]
    }
   ],
   "source": [
    "import sklearn\n",
    "from sklearn import datasets, svm\n",
    "\n",
    "NLSVM = sklearn.svm.SVC(probability=True)\n",
    "\n",
    "NLSVM_fit = NLSVM.fit(X_train, Y_train)\n",
    "NLSVM_pred = NLSVM_fit.predict(X_test)\n",
    "print(\"Non Linear SVMs is %f percent accurate\" % (accuracy_score(NLSVM_pred, Y_test)*100))\n",
    "print(confusion_matrix(Y_test, NLSVM_pred, labels = [1, 0]))  \n",
    "print ('Report : ') \n",
    "print (classification_report(Y_test, NLSVM_pred))"
   ]
  },
  {
   "cell_type": "code",
   "execution_count": 23,
   "metadata": {},
   "outputs": [
    {
     "data": {
      "image/png": "[encoded data removed]",
      "text/plain": [
       "<Figure size 432x288 with 2 Axes>"
      ]
     },
     "metadata": {
      "needs_background": "light"
     },
     "output_type": "display_data"
    }
   ],
   "source": [
    "confusion = (confusion_matrix(Y_test, NLSVM_pred, labels = [1, 0]))\n",
    "sns.heatmap(confusion, annot=True, yticklabels=[1, 0], xticklabels=[1, 0])\n",
    "plt.show()"
   ]
  },
  {
   "cell_type": "markdown",
   "metadata": {
    "id": "BwJyqyhF3fBN"
   },
   "source": [
    "### Random Forest\n",
    "\n",
    "the Random Forest technique is a form of non-parametric modeling that does away with all those equations created above, and uses raw computing power and a clever statistical observation to tease the structure out of the data. \n",
    "\n",
    "**How do they work?** A random forest algorithm randomly generates many extremely simple models to explain the variance observed in random subsections of our data. These models are like appraisal guesses. They are all awful individually. Really awful. But once they are averaged, they can be powerful predictive tools. The averaging step is the secret sauce. While the vast majority of those models were extremely poor; they were all as bad as each other on average. So when their predictions are averaged together, the bad ones average their effect on our model out to zero. The thing that remains, *if anything*, is one or a handful of those models have stumbled upon the true structure of the data.\n",
    "\n",
    "Below implement your model of random forest with `RandomForestClassifier`, generating predictions form the resulting model, and then scoring the results."
   ]
  },
  {
   "cell_type": "code",
   "execution_count": 24,
   "metadata": {
    "id": "ekx9kVAOTOKk"
   },
   "outputs": [
    {
     "name": "stdout",
     "output_type": "stream",
     "text": [
      "Random Forests is 81.100478 percent accurate\n",
      "[[117  35]\n",
      " [ 44 222]]\n",
      "Report : \n",
      "              precision    recall  f1-score   support\n",
      "\n",
      "         0.0       0.86      0.83      0.85       266\n",
      "         1.0       0.73      0.77      0.75       152\n",
      "\n",
      "    accuracy                           0.81       418\n",
      "   macro avg       0.80      0.80      0.80       418\n",
      "weighted avg       0.81      0.81      0.81       418\n",
      "\n"
     ]
    }
   ],
   "source": [
    "RF = RandomForestClassifier()\n",
    "RF_fit = RF.fit(X_train, Y_train)\n",
    "RF_pred = RF_fit.predict(X_test)\n",
    "print(\"Random Forests is %f percent accurate\" % (accuracy_score(RF_pred, Y_test)*100))\n",
    "print(confusion_matrix(Y_test, RF_pred, labels = [1, 0]))  \n",
    "print ('Report : ') \n",
    "print (classification_report(Y_test, RF_pred))"
   ]
  },
  {
   "cell_type": "code",
   "execution_count": 25,
   "metadata": {},
   "outputs": [
    {
     "data": {
      "image/png": "[encoded data removed]",
      "text/plain": [
       "<Figure size 432x288 with 2 Axes>"
      ]
     },
     "metadata": {
      "needs_background": "light"
     },
     "output_type": "display_data"
    }
   ],
   "source": [
    "confusion = (confusion_matrix(Y_test, RF_pred, labels = [1, 0]))\n",
    "sns.heatmap(confusion, annot=True, yticklabels=[1, 0], xticklabels=[1, 0])\n",
    "plt.show()"
   ]
  },
  {
   "cell_type": "markdown",
   "metadata": {
    "id": "NT6kO9UQsQit"
   },
   "source": [
    "# Additional tasks\n",
    "\n",
    "*   Plot ROC curve for implemented models\n",
    "*   Implement prediction using another model, such as the k-nearest neighbors algorithm, decision tree classifier, gaussian naive bayes, neural network etc. Or maybe try to use sklearn.model_selection.GridSearchCV based on already implemented models.\n",
    "\n",
    "\n",
    "\n"
   ]
  },
  {
   "cell_type": "code",
   "execution_count": 26,
   "metadata": {},
   "outputs": [
    {
     "name": "stdout",
     "output_type": "stream",
     "text": [
      "KNeighborsClassifier is 79.904306 percent accurate\n",
      "[[100  52]\n",
      " [ 32 234]]\n",
      "Report : \n",
      "              precision    recall  f1-score   support\n",
      "\n",
      "         0.0       0.82      0.88      0.85       266\n",
      "         1.0       0.76      0.66      0.70       152\n",
      "\n",
      "    accuracy                           0.80       418\n",
      "   macro avg       0.79      0.77      0.78       418\n",
      "weighted avg       0.80      0.80      0.80       418\n",
      "\n"
     ]
    },
    {
     "data": {
      "image/png": "[encoded data removed]",
      "text/plain": [
       "<Figure size 432x288 with 2 Axes>"
      ]
     },
     "metadata": {
      "needs_background": "light"
     },
     "output_type": "display_data"
    }
   ],
   "source": [
    "from sklearn.neighbors import KNeighborsClassifier\n",
    "\n",
    "KNN = KNeighborsClassifier()\n",
    "KNN_fit = KNN.fit(X_train, Y_train)\n",
    "KNN_pred = KNN_fit.predict(X_test)\n",
    "print(\"KNeighborsClassifier is %f percent accurate\" % (accuracy_score(KNN_pred, Y_test)*100))\n",
    "print(confusion_matrix(Y_test, KNN_pred, labels = [1, 0]))  \n",
    "print ('Report : ') \n",
    "print (classification_report(Y_test, KNN_pred))\n",
    "confusion = (confusion_matrix(Y_test, RF_pred, labels = [1, 0]))\n",
    "sns.heatmap(confusion, annot=True, yticklabels=[1, 0], xticklabels=[1, 0])\n",
    "plt.show()"
   ]
  },
  {
   "cell_type": "code",
   "execution_count": 27,
   "metadata": {},
   "outputs": [
    {
     "name": "stdout",
     "output_type": "stream",
     "text": [
      "DecisionTreeClassifier is 84.210526 percent accurate\n",
      "[[113  39]\n",
      " [ 27 239]]\n",
      "Report : \n",
      "              precision    recall  f1-score   support\n",
      "\n",
      "         0.0       0.86      0.90      0.88       266\n",
      "         1.0       0.81      0.74      0.77       152\n",
      "\n",
      "    accuracy                           0.84       418\n",
      "   macro avg       0.83      0.82      0.83       418\n",
      "weighted avg       0.84      0.84      0.84       418\n",
      "\n"
     ]
    },
    {
     "data": {
      "image/png": "[encoded data removed]",
      "text/plain": [
       "<Figure size 432x288 with 2 Axes>"
      ]
     },
     "metadata": {
      "needs_background": "light"
     },
     "output_type": "display_data"
    }
   ],
   "source": [
    "from sklearn.tree import DecisionTreeClassifier\n",
    "\n",
    "\n",
    "DTC = DecisionTreeClassifier()\n",
    "DTC_fit = DTC.fit(X_train, Y_train)\n",
    "DTC_pred = DTC_fit.predict(X_test)\n",
    "print(\"DecisionTreeClassifier is %f percent accurate\" % (accuracy_score(DTC_pred, Y_test)*100))\n",
    "print(confusion_matrix(Y_test, DTC_pred, labels = [1, 0]))  \n",
    "print ('Report : ') \n",
    "print (classification_report(Y_test, DTC_pred))\n",
    "confusion = (confusion_matrix(Y_test, DTC_pred, labels = [1, 0]))\n",
    "sns.heatmap(confusion, annot=True, yticklabels=[1, 0], xticklabels=[1, 0])\n",
    "plt.show()"
   ]
  },
  {
   "cell_type": "code",
   "execution_count": 28,
   "metadata": {},
   "outputs": [
    {
     "name": "stdout",
     "output_type": "stream",
     "text": [
      "GaussianNB is 99.282297 percent accurate\n",
      "[[152   0]\n",
      " [  3 263]]\n",
      "Report : \n",
      "              precision    recall  f1-score   support\n",
      "\n",
      "         0.0       1.00      0.99      0.99       266\n",
      "         1.0       0.98      1.00      0.99       152\n",
      "\n",
      "    accuracy                           0.99       418\n",
      "   macro avg       0.99      0.99      0.99       418\n",
      "weighted avg       0.99      0.99      0.99       418\n",
      "\n"
     ]
    },
    {
     "data": {
      "image/png": "[encoded data removed]",
      "text/plain": [
       "<Figure size 432x288 with 2 Axes>"
      ]
     },
     "metadata": {
      "needs_background": "light"
     },
     "output_type": "display_data"
    }
   ],
   "source": [
    "from sklearn.naive_bayes import GaussianNB\n",
    "\n",
    "GNB = GaussianNB()\n",
    "\n",
    "GNB_fit = GNB.fit(X_train, Y_train)\n",
    "GNB_pred = GNB_fit.predict(X_test)\n",
    "print(\"GaussianNB is %f percent accurate\" % (accuracy_score(GNB_pred, Y_test)*100))\n",
    "print(confusion_matrix(Y_test, GNB_pred, labels = [1, 0]))  \n",
    "print ('Report : ') \n",
    "print (classification_report(Y_test, GNB_pred))\n",
    "confusion = (confusion_matrix(Y_test, GNB_pred, labels = [1, 0]))\n",
    "sns.heatmap(confusion, annot=True, yticklabels=[1, 0], xticklabels=[1, 0])\n",
    "plt.show()"
   ]
  },
  {
   "cell_type": "code",
   "execution_count": 29,
   "metadata": {},
   "outputs": [
    {
     "data": {
      "image/png": "[encoded data removed]",
      "text/plain": [
       "<Figure size 1296x720 with 1 Axes>"
      ]
     },
     "metadata": {
      "needs_background": "light"
     },
     "output_type": "display_data"
    }
   ],
   "source": [
    "from sklearn.metrics import roc_curve, roc_auc_score\n",
    "\n",
    "fig = plt.figure(figsize=(18, 10))\n",
    "\n",
    "model_dict = {LR, NLSVM, RF, KNN, DTC, GNB}\n",
    "\n",
    "for mkey in model_dict:\n",
    "    fpr, tpr, _ = roc_curve(Y_test, mkey.predict_proba(X_test)[::, 1])\n",
    "    auc = roc_auc_score(Y_test, mkey.predict_proba(X_test)[::, 1])\n",
    "    plt.plot(fpr, tpr,  label=\"{}, AUC={:.3f}\".format(mkey, auc))\n",
    "    plt.plot([0,1], [0,1], linestyle='--')\n",
    "\n",
    "    plt.xticks(np.arange(0.0, 1.1, step=0.1))\n",
    "    plt.xlabel(\"Flase Positive Rate\", fontsize=15)\n",
    "\n",
    "    plt.yticks(np.arange(0.0, 1.1, step=0.1))\n",
    "    plt.ylabel(\"True Positive Rate\", fontsize=15)\n",
    "\n",
    "    plt.title('ROC Curve Analysis', fontweight='bold', fontsize=15)\n",
    "    plt.legend(prop={'size':13}, loc='lower right')\n",
    "\n",
    "plt.show()"
   ]
  },
  {
   "cell_type": "code",
   "execution_count": null,
   "metadata": {},
   "outputs": [],
   "source": []
  }
 ],
 "metadata": {
  "colab": {
   "collapsed_sections": [],
   "name": "Titanic_template.ipynb",
   "provenance": []
  },
  "kernelspec": {
   "display_name": "Python 3",
   "language": "python",
   "name": "python3"
  },
  "language_info": {
   "codemirror_mode": {
    "name": "ipython",
    "version": 3
   },
   "file_extension": ".py",
   "mimetype": "text/x-python",
   "name": "python",
   "nbconvert_exporter": "python",
   "pygments_lexer": "ipython3",
   "version": "3.8.4"
  }
 },
 "nbformat": 4,
 "nbformat_minor": 4
}
