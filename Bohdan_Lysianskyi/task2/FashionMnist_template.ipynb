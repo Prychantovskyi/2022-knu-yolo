{
  "cells": [
    {
      "cell_type": "markdown",
      "id": "af4b9b8a",
      "metadata": {
        "id": "af4b9b8a"
      },
      "source": [
        "# Train NN model on the FashionMNIST data\n",
        "\n",
        "https://www.kaggle.com/zalando-research/fashionmnist\n",
        "\n",
        "Fashion-MNIST is a dataset of Zalando's article images—consisting of a training set of 60,000 examples and a test set of 10,000 examples. Each example is a 28x28 grayscale image, associated with a label from 10 classes. Zalando intends Fashion-MNIST to serve as a direct drop-in replacement for the original MNIST dataset for benchmarking machine learning algorithms. It shares the same image size and structure of training and testing splits.\n",
        "\n",
        "You may refer to this tutorial about the original Mnist:\n",
        "https://towardsdatascience.com/handwritten-digit-mnist-pytorch-977b5338e627\n",
        "\n",
        "Or any other tutorial you may find online:\n",
        "https://www.kaggle.com/zalando-research/fashionmnist/code"
      ]
    },
    {
      "cell_type": "code",
      "execution_count": null,
      "id": "a60fad90",
      "metadata": {
        "id": "a60fad90"
      },
      "outputs": [],
      "source": [
        "import torch\n",
        "from torch import nn\n",
        "from torch.utils.data import DataLoader\n",
        "from torchvision import datasets\n",
        "from torchvision.transforms import ToTensor, Lambda, Compose\n",
        "import matplotlib.pyplot as plt\n",
        "%matplotlib inline"
      ]
    },
    {
      "cell_type": "code",
      "execution_count": null,
      "id": "33c19eee",
      "metadata": {
        "id": "33c19eee"
      },
      "outputs": [],
      "source": [
        "training_data = datasets.FashionMNIST(\n",
        "    root=\"data\",\n",
        "    train=True,\n",
        "    download=True,\n",
        "    transform=ToTensor()\n",
        ")\n",
        "\n",
        "test_data = datasets.FashionMNIST(\n",
        "    root=\"data\",\n",
        "    train=False,\n",
        "    download=True,\n",
        "    transform=ToTensor()\n",
        ")"
      ]
    },
    {
      "cell_type": "code",
      "execution_count": null,
      "id": "605d1835",
      "metadata": {
        "colab": {
          "base_uri": "https://localhost:8080/",
          "height": 281
        },
        "id": "605d1835",
        "outputId": "d2553a72-aeda-4bd4-8cae-36dbc955de33"
      },
      "outputs": [
        {
          "output_type": "display_data",
          "data": {
            "image/png": "[encoded data removed]",
            "text/plain": [
              "<Figure size 432x288 with 1 Axes>"
            ]
          },
          "metadata": {
            "needs_background": "light"
          }
        }
      ],
      "source": [
        "# Lest read a random image from the dataset and draw it\n",
        "image, label = training_data[17]\n",
        "plt.imshow(image[0], \"gray\")\n",
        "plt.title(f\"Image of class: {label}\")\n",
        "plt.show()"
      ]
    },
    {
      "cell_type": "code",
      "execution_count": null,
      "id": "f490ddd3",
      "metadata": {
        "colab": {
          "base_uri": "https://localhost:8080/"
        },
        "id": "f490ddd3",
        "outputId": "ddd34048-db44-4a78-a493-53503244c615"
      },
      "outputs": [
        {
          "output_type": "execute_result",
          "data": {
            "text/plain": [
              "torch.Size([1, 28, 28])"
            ]
          },
          "metadata": {},
          "execution_count": 4
        }
      ],
      "source": [
        "# Lets check image shape\n",
        "image.shape"
      ]
    },
    {
      "cell_type": "code",
      "execution_count": null,
      "id": "16f15225",
      "metadata": {
        "colab": {
          "base_uri": "https://localhost:8080/"
        },
        "id": "16f15225",
        "outputId": "808366c3-60fc-4c45-803f-e305cf3306a0"
      },
      "outputs": [
        {
          "output_type": "execute_result",
          "data": {
            "text/plain": [
              "['T-shirt/top',\n",
              " 'Trouser',\n",
              " 'Pullover',\n",
              " 'Dress',\n",
              " 'Coat',\n",
              " 'Sandal',\n",
              " 'Shirt',\n",
              " 'Sneaker',\n",
              " 'Bag',\n",
              " 'Ankle boot']"
            ]
          },
          "metadata": {},
          "execution_count": 5
        }
      ],
      "source": [
        "# Lets see all the classes available\n",
        "training_data.classes"
      ]
    },
    {
      "cell_type": "markdown",
      "id": "bf2a7f78",
      "metadata": {
        "id": "bf2a7f78"
      },
      "source": [
        "# Task 1:\n",
        "\n",
        "Create a DataLoader objects for train and test"
      ]
    },
    {
      "cell_type": "code",
      "execution_count": null,
      "id": "97c9881c",
      "metadata": {
        "id": "97c9881c"
      },
      "outputs": [],
      "source": [
        "dataloader = DataLoader(training_data, batch_size=32, shuffle=True)\n",
        "test_loader = DataLoader(test_data, batch_size=1, shuffle=True)"
      ]
    },
    {
      "cell_type": "markdown",
      "id": "0695343f",
      "metadata": {
        "id": "0695343f"
      },
      "source": [
        "# Task 2:\n",
        "\n",
        "Create a Neural Network"
      ]
    },
    {
      "cell_type": "code",
      "execution_count": null,
      "id": "f9b3d73d",
      "metadata": {
        "id": "f9b3d73d"
      },
      "outputs": [],
      "source": [
        "class Network(nn.Module):\n",
        "  def __init__(self):\n",
        "        super().__init__()\n",
        "        self.normalize = nn.functional.normalize\n",
        "        self.fc1 = nn.Linear(28 * 28, 256)\n",
        "        self.fc2 = nn.Linear(256, 128)\n",
        "        self.fc4 = nn.Linear(128, 10)\n",
        "        self.relu = nn.functional.relu\n",
        "        self.softmax = nn.functional.softmax\n",
        "  def forward(self, x):\n",
        "    x = x.reshape(-1, 784)\n",
        "    x = self.relu(self.fc1(x))\n",
        "    x = self.relu(self.fc2(x))\n",
        "    # x = self.relu(self.fc3(x))\n",
        "    x = self.softmax(self.fc4(x), dim=1)\n",
        "    return x\n",
        "\n",
        "\n",
        "model = Network()"
      ]
    },
    {
      "cell_type": "markdown",
      "id": "e13d5117",
      "metadata": {
        "id": "e13d5117"
      },
      "source": [
        "# Task 3:\n",
        "\n",
        "Specify loss and optimizer"
      ]
    },
    {
      "cell_type": "code",
      "execution_count": null,
      "id": "8cd11bf9",
      "metadata": {
        "id": "8cd11bf9"
      },
      "outputs": [],
      "source": [
        "loss_fn = nn.CrossEntropyLoss()\n",
        "optimizer = torch.optim.Adam(model.parameters(), lr=1e-3)\n",
        "#device = torch.device('cpu')"
      ]
    },
    {
      "cell_type": "markdown",
      "id": "605caa5b",
      "metadata": {
        "id": "605caa5b"
      },
      "source": [
        "# Task 3:\n",
        "\n",
        "Train model using for loop"
      ]
    },
    {
      "cell_type": "code",
      "execution_count": null,
      "id": "a724b721",
      "metadata": {
        "id": "a724b721",
        "colab": {
          "base_uri": "https://localhost:8080/"
        },
        "outputId": "a249a1d3-4d60-42e2-b568-a145b8988421"
      },
      "outputs": [
        {
          "output_type": "stream",
          "name": "stdout",
          "text": [
            "Passed epoch 1\n",
            "Passed epoch 11\n"
          ]
        }
      ],
      "source": [
        "for epoch in range(10):\n",
        "  for batch, (X, y) in enumerate(dataloader):\n",
        "      #X, y = X.to(device), y.to(device)\n",
        "      \n",
        "      pred = model.forward(X)\n",
        "      loss = loss_fn(pred, y)\n",
        "      \n",
        "      optimizer.zero_grad()\n",
        "      loss.backward()\n",
        "      optimizer.step()\n",
        "  if epoch % 10 == 0:\n",
        "    print(f\"Passed epoch {epoch + 1}\")"
      ]
    },
    {
      "cell_type": "markdown",
      "id": "72d61b00",
      "metadata": {
        "id": "72d61b00"
      },
      "source": [
        "# Task 4:\n",
        "\n",
        "Report accuracy from train set, and test set independently"
      ]
    },
    {
      "cell_type": "code",
      "execution_count": null,
      "id": "d129cd18",
      "metadata": {
        "id": "d129cd18"
      },
      "outputs": [],
      "source": [
        "def accuracy(outputs, labels):\n",
        "    _, preds = torch.max(outputs, dim=1)\n",
        "    return torch.tensor(torch.sum(preds == labels).item() / len(preds))"
      ]
    },
    {
      "cell_type": "code",
      "source": [
        "def predict(model, dataloader):\n",
        "  all_preds = torch.tensor([])\n",
        "  true_vals = torch.tensor([])\n",
        "  with torch.no_grad():\n",
        "    for (X, y) in dataloader:\n",
        "      all_preds = torch.cat((all_preds, model.forward(X)), 0)\n",
        "      true_vals = torch.cat((true_vals, y), 0)\n",
        "  return all_preds, true_vals\n"
      ],
      "metadata": {
        "id": "ANFNWTiYEFg7"
      },
      "id": "ANFNWTiYEFg7",
      "execution_count": null,
      "outputs": []
    },
    {
      "cell_type": "code",
      "source": [
        "preds_train, vals_train = predict(model, dataloader)\n",
        "preds_test, vals_test = predict(model, test_loader)"
      ],
      "metadata": {
        "id": "wt1lcs-ceOge"
      },
      "id": "wt1lcs-ceOge",
      "execution_count": null,
      "outputs": []
    },
    {
      "cell_type": "code",
      "source": [
        "acc_train = accuracy(preds_train, vals_train)\n",
        "acc_test = accuracy(preds_test, vals_test)\n",
        "print(\"Accuracy on a train set:\")\n",
        "print(acc_train)\n",
        "print(\"Accuracy on a test set\")\n",
        "print(acc_test)"
      ],
      "metadata": {
        "id": "0Z3fXIMcdU4H",
        "colab": {
          "base_uri": "https://localhost:8080/"
        },
        "outputId": "f3f06ba6-69fa-4241-ca8f-5785bf54b2a9"
      },
      "id": "0Z3fXIMcdU4H",
      "execution_count": null,
      "outputs": [
        {
          "output_type": "stream",
          "name": "stdout",
          "text": [
            "Accuracy on a train set:\n",
            "tensor(0.8753)\n",
            "Accuracy on a test set\n",
            "tensor(0.8568)\n"
          ]
        }
      ]
    },
    {
      "cell_type": "markdown",
      "id": "0bfcc3eb",
      "metadata": {
        "id": "0bfcc3eb"
      },
      "source": [
        "# Task 5:\n",
        "\n",
        "Report confussion matrix for the test set\n",
        "\n",
        "Expected format:\n",
        "```\n",
        "array([[0., 0., 0., 0., 0., 0., 0., 0., 0., 0.],\n",
        "       [0., 0., 0., 0., 0., 0., 0., 0., 0., 0.],\n",
        "       [0., 0., 0., 0., 0., 0., 0., 0., 0., 0.],\n",
        "       [0., 0., 0., 0., 0., 0., 0., 0., 0., 0.],\n",
        "       [0., 0., 0., 0., 0., 0., 0., 0., 0., 0.],\n",
        "       [0., 0., 0., 0., 0., 0., 0., 0., 0., 0.],\n",
        "       [0., 0., 0., 0., 0., 0., 0., 0., 0., 0.],\n",
        "       [0., 0., 0., 0., 0., 0., 0., 0., 0., 0.],\n",
        "       [0., 0., 0., 0., 0., 0., 0., 0., 0., 0.],\n",
        "       [0., 0., 0., 0., 0., 0., 0., 0., 0., 0.]])\n",
        "```"
      ]
    },
    {
      "cell_type": "code",
      "source": [
        "from sklearn.metrics import confusion_matrix\n",
        "_, preds = torch.max(preds_test, dim=1)\n",
        "conf_mat = confusion_matrix(vals_test.numpy(), preds.numpy())\n",
        "print('Confusion matrix')\n",
        "print(conf_mat)"
      ],
      "metadata": {
        "id": "zPkn9X4JdTJO",
        "colab": {
          "base_uri": "https://localhost:8080/"
        },
        "outputId": "61fc830f-8718-4ee6-df4e-40c763c4a171"
      },
      "id": "zPkn9X4JdTJO",
      "execution_count": null,
      "outputs": [
        {
          "output_type": "stream",
          "name": "stdout",
          "text": [
            "Confusion matrix\n",
            "[[805   1   7  13  11   1 145   0  17   0]\n",
            " [  5 957   1  25   7   0   2   0   3   0]\n",
            " [ 13   1 698   7 234   0  44   0   3   0]\n",
            " [ 43   8   7 808  96   1  30   0   7   0]\n",
            " [  0   1  49  11 912   0  20   0   7   0]\n",
            " [  0   0   0   0   0 958   0  29   6   7]\n",
            " [116   1  82  19 191   0 567   0  24   0]\n",
            " [  1   0   0   0   0  20   0 944   2  33]\n",
            " [  1   1   1   4   6   1   5   5 976   0]\n",
            " [  0   0   0   0   0  18   0  38   1 943]]\n"
          ]
        }
      ]
    },
    {
      "cell_type": "markdown",
      "id": "ba2a7f90",
      "metadata": {
        "id": "ba2a7f90"
      },
      "source": [
        "# Task 6 (optional):\n",
        "\n",
        "Train LogisticRegression and DecisionTree models on the same data\n",
        "Compare their performance to the NN"
      ]
    },
    {
      "cell_type": "code",
      "execution_count": null,
      "id": "f009b458",
      "metadata": {
        "id": "f009b458"
      },
      "outputs": [],
      "source": [
        "class LogisticRegression(nn.Module):\n",
        "     def __init__(self, input_dim, output_dim):\n",
        "      super(LogisticRegression, self).__init__()\n",
        "      self.linear = nn.Linear(input_dim, output_dim)\n",
        "     def forward(self, x):\n",
        "      x = x.reshape(-1, 784)\n",
        "      outputs = torch.sigmoid(self.linear(x))\n",
        "      return outputs"
      ]
    },
    {
      "cell_type": "code",
      "source": [
        "log_regression = LogisticRegression(784, 10)\n",
        "\n",
        "for epoch in range(10):\n",
        "  for batch, (X, y) in enumerate(dataloader):\n",
        "      #X, y = X.to(device), y.to(device)\n",
        "      \n",
        "      pred = log_regression.forward(X)\n",
        "      loss = loss_fn(pred, y)\n",
        "      \n",
        "      optimizer.zero_grad()\n",
        "      loss.backward()\n",
        "      optimizer.step()\n",
        "  print(f\"Passed epoch {epoch}\")"
      ],
      "metadata": {
        "id": "OhzqQxvgOIDu",
        "colab": {
          "base_uri": "https://localhost:8080/"
        },
        "outputId": "a779a109-8499-416e-c1a9-77d89c5ef22b"
      },
      "id": "OhzqQxvgOIDu",
      "execution_count": null,
      "outputs": [
        {
          "output_type": "stream",
          "name": "stdout",
          "text": [
            "Passed epoch 0\n",
            "Passed epoch 1\n",
            "Passed epoch 2\n",
            "Passed epoch 3\n",
            "Passed epoch 4\n",
            "Passed epoch 5\n",
            "Passed epoch 6\n",
            "Passed epoch 7\n",
            "Passed epoch 8\n",
            "Passed epoch 9\n"
          ]
        }
      ]
    },
    {
      "cell_type": "code",
      "source": [
        "log_preds, _ = predict(log_regression, test_loader)"
      ],
      "metadata": {
        "id": "TSrIa4YwO84M"
      },
      "id": "TSrIa4YwO84M",
      "execution_count": null,
      "outputs": []
    },
    {
      "cell_type": "code",
      "source": [
        "log_acc = accuracy(log_preds, vals_test)\n",
        "print(f\"Accuracy of logistic regression {log_acc}\")"
      ],
      "metadata": {
        "id": "1uRqr-xGP2lz",
        "colab": {
          "base_uri": "https://localhost:8080/"
        },
        "outputId": "ac560cfd-743d-429e-c659-4d36efbc37b4"
      },
      "id": "1uRqr-xGP2lz",
      "execution_count": null,
      "outputs": [
        {
          "output_type": "stream",
          "name": "stdout",
          "text": [
            "Accuracy of logistic regression 0.09910000115633011\n"
          ]
        }
      ]
    },
    {
      "cell_type": "code",
      "source": [
        "from sklearn.tree import DecisionTreeClassifier\n",
        "\n",
        "\n",
        "train_loader = DataLoader(training_data, batch_size=len(training_data))\n",
        "\n",
        "train_dataset_array = training_data.data.numpy()\n",
        "train_dataset_array = train_dataset_array.reshape(-1, 784)\n",
        "training_dataset_labels = training_data.targets.numpy()\n",
        "\n",
        "test_dataset_array = test_data.data.numpy()\n",
        "test_dataset_array = test_dataset_array.reshape(-1, 784)\n",
        "test_dataset_labels = test_data.targets.numpy()\n",
        "\n",
        "# print(train_dataset_array)\n",
        "# print(train_dataset_labels)\n",
        "\n",
        "tree = DecisionTreeClassifier()\n",
        "tree.fit(train_dataset_array, training_dataset_labels)"
      ],
      "metadata": {
        "id": "QNtiFNccUCqg",
        "colab": {
          "base_uri": "https://localhost:8080/"
        },
        "outputId": "0deaadca-b3a3-4c3a-a73f-67ef78443383"
      },
      "id": "QNtiFNccUCqg",
      "execution_count": null,
      "outputs": [
        {
          "output_type": "execute_result",
          "data": {
            "text/plain": [
              "DecisionTreeClassifier()"
            ]
          },
          "metadata": {},
          "execution_count": 49
        }
      ]
    },
    {
      "cell_type": "code",
      "source": [
        "tree_preds = tree.predict(test_dataset_array)\n",
        "\n",
        "print(tree_preds)"
      ],
      "metadata": {
        "colab": {
          "base_uri": "https://localhost:8080/"
        },
        "id": "cE5mtikq6bf5",
        "outputId": "76b8cdad-d337-4923-94e3-7348b8c8470a"
      },
      "id": "cE5mtikq6bf5",
      "execution_count": null,
      "outputs": [
        {
          "output_type": "stream",
          "name": "stdout",
          "text": [
            "[9 6 1 ... 8 1 5]\n"
          ]
        }
      ]
    },
    {
      "cell_type": "code",
      "source": [
        "tree_acc = (tree_preds == test_dataset_labels).sum() / len(tree_preds)\n",
        "print(tree_acc)"
      ],
      "metadata": {
        "colab": {
          "base_uri": "https://localhost:8080/"
        },
        "id": "0zzCCJeK6o0i",
        "outputId": "81bf0506-c740-44be-b438-dc19498ae115"
      },
      "id": "0zzCCJeK6o0i",
      "execution_count": null,
      "outputs": [
        {
          "output_type": "stream",
          "name": "stdout",
          "text": [
            "0.7893\n"
          ]
        }
      ]
    }
  ],
  "metadata": {
    "kernelspec": {
      "display_name": "Python 3 (ipykernel)",
      "language": "python",
      "name": "python3"
    },
    "language_info": {
      "codemirror_mode": {
        "name": "ipython",
        "version": 3
      },
      "file_extension": ".py",
      "mimetype": "text/x-python",
      "name": "python",
      "nbconvert_exporter": "python",
      "pygments_lexer": "ipython3",
      "version": "3.8.0"
    },
    "colab": {
      "name": "FashionMnist_template.ipynb",
      "provenance": [],
      "collapsed_sections": []
    },
    "accelerator": "TPU"
  },
  "nbformat": 4,
  "nbformat_minor": 5
}