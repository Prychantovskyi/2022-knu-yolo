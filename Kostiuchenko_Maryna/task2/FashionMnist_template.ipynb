{
 "cells": [
  {
   "cell_type": "markdown",
   "id": "af4b9b8a",
   "metadata": {},
   "source": [
    "# Train NN model on the FashionMNIST data\n",
    "\n",
    "https://www.kaggle.com/zalando-research/fashionmnist\n",
    "\n",
    "Fashion-MNIST is a dataset of Zalando's article images—consisting of a training set of 60,000 examples and a test set of 10,000 examples. Each example is a 28x28 grayscale image, associated with a label from 10 classes. Zalando intends Fashion-MNIST to serve as a direct drop-in replacement for the original MNIST dataset for benchmarking machine learning algorithms. It shares the same image size and structure of training and testing splits.\n",
    "\n",
    "You may refer to this tutorial about the original Mnist:\n",
    "https://towardsdatascience.com/handwritten-digit-mnist-pytorch-977b5338e627\n",
    "\n",
    "Or any other tutorial you may find online:\n",
    "https://www.kaggle.com/zalando-research/fashionmnist/code"
   ]
  },
  {
   "cell_type": "code",
   "execution_count": 126,
   "id": "a60fad90",
   "metadata": {},
   "outputs": [],
   "source": [
    "import numpy as np\n",
    "import torch\n",
    "from torch import nn, optim\n",
    "import torch.nn.functional as F\n",
    "from torch.autograd import Variable\n",
    "from torch.utils.data import DataLoader\n",
    "from torchvision import datasets\n",
    "from torchvision.transforms import ToTensor, Lambda, Compose\n",
    "import matplotlib.pyplot as plt\n",
    "%matplotlib inline"
   ]
  },
  {
   "cell_type": "code",
   "execution_count": 8,
   "id": "33c19eee",
   "metadata": {},
   "outputs": [],
   "source": [
    "training_data = datasets.FashionMNIST(\n",
    "    root=\"data\",\n",
    "    train=True,\n",
    "    download=True,\n",
    "    transform=ToTensor()\n",
    ")\n",
    "\n",
    "test_data = datasets.FashionMNIST(\n",
    "    root=\"data\",\n",
    "    train=False,\n",
    "    download=True,\n",
    "    transform=ToTensor()\n",
    ")"
   ]
  },
  {
   "cell_type": "code",
   "execution_count": 334,
   "id": "016674dd",
   "metadata": {},
   "outputs": [
    {
     "name": "stdout",
     "output_type": "stream",
     "text": [
      "['T-shirt/top', 'Trouser', 'Pullover', 'Dress', 'Coat', 'Sandal', 'Shirt', 'Sneaker', 'Bag', 'Ankle boot']\n"
     ]
    }
   ],
   "source": [
    "# Lets see all the classes available\n",
    "class_names = training_data.classes\n",
    "print(class_names)"
   ]
  },
  {
   "cell_type": "code",
   "execution_count": 335,
   "id": "605d1835",
   "metadata": {},
   "outputs": [
    {
     "data": {
      "image/png": "[encoded data removed]",
      "text/plain": [
       "<Figure size 432x288 with 1 Axes>"
      ]
     },
     "metadata": {
      "needs_background": "light"
     },
     "output_type": "display_data"
    }
   ],
   "source": [
    "# Lest read a random image from the dataset and draw it\n",
    "image, label = training_data[17]\n",
    "plt.imshow(image[0], \"gray\")\n",
    "plt.title(f\"Image of class: {class_names[label]}\")\n",
    "plt.show()"
   ]
  },
  {
   "cell_type": "code",
   "execution_count": 336,
   "id": "f490ddd3",
   "metadata": {},
   "outputs": [
    {
     "data": {
      "text/plain": [
       "torch.Size([1, 28, 28])"
      ]
     },
     "execution_count": 336,
     "metadata": {},
     "output_type": "execute_result"
    }
   ],
   "source": [
    "# Lets check image shape\n",
    "image.shape"
   ]
  },
  {
   "cell_type": "markdown",
   "id": "bf2a7f78",
   "metadata": {},
   "source": [
    "# Task 1:\n",
    "\n",
    "Create a DataLoader objects for train and test"
   ]
  },
  {
   "cell_type": "code",
   "execution_count": 337,
   "id": "97c9881c",
   "metadata": {},
   "outputs": [],
   "source": [
    "trainloader = torch.utils.data.DataLoader(training_data, batch_size=100, shuffle=True)\n",
    "valloader = torch.utils.data.DataLoader(test_data, batch_size=100, shuffle=True)"
   ]
  },
  {
   "cell_type": "code",
   "execution_count": 338,
   "id": "78370e59",
   "metadata": {},
   "outputs": [
    {
     "name": "stdout",
     "output_type": "stream",
     "text": [
      "torch.Size([100, 1, 28, 28])\n",
      "torch.Size([100])\n"
     ]
    }
   ],
   "source": [
    "dataiter = iter(trainloader)\n",
    "images, labels = dataiter.next()\n",
    "\n",
    "print(images.shape)\n",
    "print(labels.shape)"
   ]
  },
  {
   "cell_type": "markdown",
   "id": "0695343f",
   "metadata": {},
   "source": [
    "# Task 2:\n",
    "\n",
    "Create a Neural Network"
   ]
  },
  {
   "cell_type": "code",
   "execution_count": 339,
   "id": "56d2dc56",
   "metadata": {},
   "outputs": [
    {
     "name": "stdout",
     "output_type": "stream",
     "text": [
      "NN(\n",
      "  (fc1): Linear(in_features=784, out_features=196, bias=True)\n",
      "  (fc2): Linear(in_features=196, out_features=128, bias=True)\n",
      "  (fc3): Linear(in_features=128, out_features=10, bias=True)\n",
      ")\n"
     ]
    }
   ],
   "source": [
    "class NN(nn.Module):\n",
    "    def __init__(self):\n",
    "        super(NN, self).__init__()\n",
    "        self.fc1 = nn.Linear(784, 196)\n",
    "        self.fc2 = nn.Linear(196, 128)\n",
    "        self.fc3 = nn.Linear(128, 10)\n",
    "    def forward(self, x):\n",
    "        x = x.reshape(-1, 784)\n",
    "        x = F.relu(self.fc1(x))\n",
    "        x = F.relu(self.fc2(x))\n",
    "        return F.log_softmax(self.fc3(x), dim = 1)\n",
    "\n",
    "\n",
    "model = NN()\n",
    "print(model)"
   ]
  },
  {
   "cell_type": "markdown",
   "id": "e13d5117",
   "metadata": {},
   "source": [
    "# Task 3:\n",
    "\n",
    "Specify loss and optimizer"
   ]
  },
  {
   "cell_type": "code",
   "execution_count": 340,
   "id": "322c13f6",
   "metadata": {},
   "outputs": [],
   "source": [
    "loss_fn = nn.CrossEntropyLoss()\n",
    "optimizer = torch.optim.Adam(model.parameters(), lr=0.001)"
   ]
  },
  {
   "cell_type": "markdown",
   "id": "9b4d2ab0",
   "metadata": {},
   "source": [
    "# Task 3:\n",
    "\n",
    "Train model using for loop"
   ]
  },
  {
   "cell_type": "code",
   "execution_count": 341,
   "id": "34fd7fed",
   "metadata": {},
   "outputs": [
    {
     "name": "stdout",
     "output_type": "stream",
     "text": [
      "Epoch: 1 Training loss: 0.5606488247215747 Training Accuracy: 80%\n",
      "Epoch: 2 Training loss: 0.38752343468368056 Training Accuracy: 86%\n",
      "Epoch: 3 Training loss: 0.3475873604416847 Training Accuracy: 87%\n",
      "Epoch: 4 Training loss: 0.31841019526124 Training Accuracy: 88%\n",
      "Epoch: 5 Training loss: 0.29947142812112965 Training Accuracy: 89%\n",
      "Epoch: 6 Training loss: 0.2819151672720909 Training Accuracy: 90%\n",
      "Epoch: 7 Training loss: 0.26957687497138977 Training Accuracy: 90%\n",
      "Epoch: 8 Training loss: 0.2571938425550858 Training Accuracy: 90%\n",
      "Epoch: 9 Training loss: 0.24543533443162838 Training Accuracy: 91%\n",
      "Epoch: 10 Training loss: 0.236136999775966 Training Accuracy: 91%\n"
     ]
    }
   ],
   "source": [
    "for epoch in range(10):\n",
    "    running_loss = 0\n",
    "    correct_epoch = 0\n",
    "    for batch, (X, y) in enumerate(trainloader):\n",
    "        X, y = Variable(X), Variable(y)\n",
    "        X = X.view(-1, 784)\n",
    "        \n",
    "        out = model.forward(X)\n",
    "        loss = loss_fn(out, y)\n",
    "        \n",
    "        _, preds = torch.max(out, dim=1)\n",
    "      \n",
    "        optimizer.zero_grad()\n",
    "        loss.backward()\n",
    "        optimizer.step()\n",
    "        running_loss += loss.item()\n",
    "        correct_epoch += (preds == y).float().sum()\n",
    "       \n",
    "    running_loss = running_loss / len(trainloader)\n",
    "    acc = correct_epoch / len(training_data)\n",
    "    print(\"Epoch: {}\".format(epoch+1),\n",
    "          \"Training loss: {}\".format(running_loss),\n",
    "          \"Training Accuracy: {:.0f}%\".format(100*acc))"
   ]
  },
  {
   "cell_type": "markdown",
   "id": "72d61b00",
   "metadata": {},
   "source": [
    "# Task 4:\n",
    "\n",
    "Report accuracy from train set, and test set independently"
   ]
  },
  {
   "cell_type": "code",
   "execution_count": 342,
   "id": "3b95249f",
   "metadata": {},
   "outputs": [
    {
     "name": "stdout",
     "output_type": "stream",
     "text": [
      "Test loss: 0.3180987536907196 Test Accuracy: 89%\n"
     ]
    }
   ],
   "source": [
    "test_loss = 0\n",
    "correct = 0\n",
    "preds_test = torch.tensor([])\n",
    "vals_test  = torch.tensor([])\n",
    "with torch.no_grad():\n",
    "    for X, y in valloader:\n",
    "        X = X.view(-1, 784)\n",
    "        out = model.forward(X)\n",
    "        test_loss += loss_fn(out, y)\n",
    "        _, preds = torch.max(out, dim=1)\n",
    "        correct += (preds == y).float().sum()\n",
    "        preds_test = torch.cat((preds_test, model.forward(X)), 0)\n",
    "        vals_test  = torch.cat((vals_test , y), 0)\n",
    "\n",
    "test_loss /= len(valloader)\n",
    "test_acc = correct / len(test_data)\n",
    "print(\"Test loss: {:}\".format(test_loss),\n",
    "          \"Test Accuracy: {:.0f}%\".format(100*test_acc))"
   ]
  },
  {
   "cell_type": "markdown",
   "id": "0bfcc3eb",
   "metadata": {},
   "source": [
    "# Task 5:\n",
    "\n",
    "Report confussion matrix for the test set\n",
    "\n",
    "Expected format:\n",
    "```\n",
    "array([[0., 0., 0., 0., 0., 0., 0., 0., 0., 0.],\n",
    "       [0., 0., 0., 0., 0., 0., 0., 0., 0., 0.],\n",
    "       [0., 0., 0., 0., 0., 0., 0., 0., 0., 0.],\n",
    "       [0., 0., 0., 0., 0., 0., 0., 0., 0., 0.],\n",
    "       [0., 0., 0., 0., 0., 0., 0., 0., 0., 0.],\n",
    "       [0., 0., 0., 0., 0., 0., 0., 0., 0., 0.],\n",
    "       [0., 0., 0., 0., 0., 0., 0., 0., 0., 0.],\n",
    "       [0., 0., 0., 0., 0., 0., 0., 0., 0., 0.],\n",
    "       [0., 0., 0., 0., 0., 0., 0., 0., 0., 0.],\n",
    "       [0., 0., 0., 0., 0., 0., 0., 0., 0., 0.]])\n",
    "```"
   ]
  },
  {
   "cell_type": "code",
   "execution_count": 343,
   "id": "7b84ec08",
   "metadata": {},
   "outputs": [
    {
     "name": "stdout",
     "output_type": "stream",
     "text": [
      "Confusion matrix\n",
      "[[827   2  22  38   2   2 100   0   7   0]\n",
      " [  1 975   2  18   1   0   2   0   1   0]\n",
      " [ 12   1 846  16  62   1  61   0   1   0]\n",
      " [ 12   5   9 922  25   0  24   0   3   0]\n",
      " [  0   0 107  39 760   0  91   0   3   0]\n",
      " [  0   0   0   0   0 974   0  15   0  11]\n",
      " [101   2  90  39  52   0 706   0  10   0]\n",
      " [  0   0   0   0   0  24   0 932   0  44]\n",
      " [  3   1   6   8   5   4   2   5 966   0]\n",
      " [  0   0   0   0   0   9   1  32   0 958]]\n"
     ]
    }
   ],
   "source": [
    "from sklearn.metrics import confusion_matrix\n",
    "_, preds = torch.max(preds_test, dim=1)\n",
    "conf_mat = confusion_matrix(vals_test.numpy(), preds.numpy())\n",
    "print('Confusion matrix')\n",
    "print(conf_mat)"
   ]
  },
  {
   "cell_type": "markdown",
   "id": "ba2a7f90",
   "metadata": {},
   "source": [
    "# Task 6 (optional):\n",
    "\n",
    "Train LogisticRegression and DecisionTree models on the same data\n",
    "Compare their performance to the NN"
   ]
  },
  {
   "cell_type": "code",
   "execution_count": 380,
   "id": "e6ceba4a",
   "metadata": {},
   "outputs": [],
   "source": [
    "class LogisticRegression(nn.Module):\n",
    "    def __init__(self):\n",
    "        super(LogisticRegression, self).__init__()\n",
    "        self.linear = nn.Linear(784, 10)\n",
    "    def forward(self, x):\n",
    "        x = x.reshape(-1, 784)\n",
    "        return torch.sigmoid(self.linear(x))"
   ]
  },
  {
   "cell_type": "code",
   "execution_count": 381,
   "id": "a0e0d2c6",
   "metadata": {},
   "outputs": [
    {
     "name": "stdout",
     "output_type": "stream",
     "text": [
      "Epoch: 1\n",
      "Epoch: 2\n",
      "Epoch: 3\n",
      "Epoch: 4\n",
      "Epoch: 5\n",
      "Epoch: 6\n",
      "Epoch: 7\n",
      "Epoch: 8\n",
      "Epoch: 9\n",
      "Epoch: 10\n"
     ]
    }
   ],
   "source": [
    "log_regression = LogisticRegression()\n",
    "\n",
    "for epoch in range(10):\n",
    "    for batch, (X, y) in enumerate(trainloader):\n",
    "        X, y = Variable(X), Variable(y)\n",
    "        X = X.view(-1, 784)\n",
    "      \n",
    "        log_out = log_regression.forward(X)\n",
    "        loss = loss_fn(log_out, y)\n",
    "      \n",
    "        optimizer.zero_grad()\n",
    "        loss.backward()\n",
    "        optimizer.step()\n",
    "        \n",
    "    print(\"Epoch: {}\".format(epoch+1))"
   ]
  },
  {
   "cell_type": "code",
   "execution_count": 382,
   "id": "8ecbd8fc",
   "metadata": {},
   "outputs": [
    {
     "name": "stdout",
     "output_type": "stream",
     "text": [
      "Accuracy of logistic regression 0.09929999709129333\n"
     ]
    }
   ],
   "source": [
    "log_preds = torch.tensor([])\n",
    "with torch.no_grad():\n",
    "    for (X, y) in valloader:\n",
    "        log_preds = torch.cat((log_preds, log_regression.forward(X)), 0)\n",
    "        \n",
    "_, preds = torch.max(log_preds, dim=1)\n",
    "log_acc = torch.tensor(torch.sum(preds == vals_test).item() / len(preds))    \n",
    "print(\"Accuracy of logistic regression {}\".format(log_acc))"
   ]
  },
  {
   "cell_type": "code",
   "execution_count": 378,
   "id": "d42e8c8f",
   "metadata": {},
   "outputs": [
    {
     "data": {
      "text/plain": [
       "DecisionTreeClassifier()"
      ]
     },
     "execution_count": 378,
     "metadata": {},
     "output_type": "execute_result"
    }
   ],
   "source": [
    "from sklearn.tree import DecisionTreeClassifier\n",
    "\n",
    "train_dataset_array = training_data.data.numpy()\n",
    "train_dataset_array = train_dataset_array.reshape(-1, 784)\n",
    "training_dataset_labels = training_data.targets.numpy()\n",
    "\n",
    "test_dataset_array = test_data.data.numpy()\n",
    "test_dataset_array = test_dataset_array.reshape(-1, 784)\n",
    "test_dataset_labels = test_data.targets.numpy()\n",
    "\n",
    "decision_tree = DecisionTreeClassifier()\n",
    "decision_tree.fit(train_dataset_array, training_dataset_labels)"
   ]
  },
  {
   "cell_type": "code",
   "execution_count": 385,
   "id": "aa7d5d68",
   "metadata": {},
   "outputs": [
    {
     "name": "stdout",
     "output_type": "stream",
     "text": [
      "Accuracy of decision tree 79%\n"
     ]
    }
   ],
   "source": [
    "decision_tree_preds = decision_tree.predict(test_dataset_array)\n",
    "decision_tree_acc = (decision_tree_preds == test_dataset_labels).sum() / len(decision_tree_preds)\n",
    "print(\"Accuracy of decision tree {:.0f}%\".format(100*decision_tree_acc))"
   ]
  },
  {
   "cell_type": "code",
   "execution_count": null,
   "id": "a9b91dd7",
   "metadata": {},
   "outputs": [],
   "source": []
  }
 ],
 "metadata": {
  "kernelspec": {
   "display_name": "Python 3 (ipykernel)",
   "language": "python",
   "name": "python3"
  },
  "language_info": {
   "codemirror_mode": {
    "name": "ipython",
    "version": 3
   },
   "file_extension": ".py",
   "mimetype": "text/x-python",
   "name": "python",
   "nbconvert_exporter": "python",
   "pygments_lexer": "ipython3",
   "version": "3.8.5"
  }
 },
 "nbformat": 4,
 "nbformat_minor": 5
}
