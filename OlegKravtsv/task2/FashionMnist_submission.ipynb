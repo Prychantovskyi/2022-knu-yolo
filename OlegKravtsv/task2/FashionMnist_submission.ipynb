{
 "cells": [
  {
   "cell_type": "markdown",
   "id": "af4b9b8a",
   "metadata": {},
   "source": [
    "# Train NN model on the FashionMNIST data\n",
    "\n",
    "https://www.kaggle.com/zalando-research/fashionmnist\n",
    "\n",
    "Fashion-MNIST is a dataset of Zalando's article images—consisting of a training set of 60,000 examples and a test set of 10,000 examples. Each example is a 28x28 grayscale image, associated with a label from 10 classes. Zalando intends Fashion-MNIST to serve as a direct drop-in replacement for the original MNIST dataset for benchmarking machine learning algorithms. It shares the same image size and structure of training and testing splits.\n",
    "\n",
    "You may refer to this tutorial about the original Mnist:\n",
    "https://towardsdatascience.com/handwritten-digit-mnist-pytorch-977b5338e627\n",
    "\n",
    "Or any other tutorial you may find online:\n",
    "https://www.kaggle.com/zalando-research/fashionmnist/code"
   ]
  },
  {
   "cell_type": "code",
   "execution_count": 1,
   "id": "a60fad90",
   "metadata": {},
   "outputs": [],
   "source": [
    "import torch\n",
    "from torch import nn\n",
    "from torch.utils.data import DataLoader\n",
    "from torchvision import datasets\n",
    "from torchvision.transforms import ToTensor, Lambda, Compose\n",
    "import matplotlib.pyplot as plt\n",
    "%matplotlib inline"
   ]
  },
  {
   "cell_type": "code",
   "execution_count": 2,
   "id": "33c19eee",
   "metadata": {},
   "outputs": [],
   "source": [
    "training_data = datasets.FashionMNIST(\n",
    "    root=\"data\",\n",
    "    train=True,\n",
    "    download=True,\n",
    "    transform=ToTensor()\n",
    ")\n",
    "\n",
    "test_data = datasets.FashionMNIST(\n",
    "    root=\"data\",\n",
    "    train=False,\n",
    "    download=True,\n",
    "    transform=ToTensor()\n",
    ")\n",
    "device = torch.device(\"cuda:0\" if torch.cuda.is_available() else \"cpu\")"
   ]
  },
  {
   "cell_type": "code",
   "execution_count": 3,
   "id": "605d1835",
   "metadata": {},
   "outputs": [
    {
     "data": {
      "image/png": "[encoded data removed]",
      "text/plain": [
       "<Figure size 432x288 with 1 Axes>"
      ]
     },
     "metadata": {
      "needs_background": "light"
     },
     "output_type": "display_data"
    }
   ],
   "source": [
    "# Lest read a random image from the dataset and draw it\n",
    "image, label = training_data[17]\n",
    "plt.imshow(image[0], \"gray\")\n",
    "plt.title(f\"Image of class: {label}\")\n",
    "plt.show()"
   ]
  },
  {
   "cell_type": "code",
   "execution_count": 4,
   "id": "f490ddd3",
   "metadata": {},
   "outputs": [
    {
     "data": {
      "text/plain": [
       "torch.Size([1, 28, 28])"
      ]
     },
     "execution_count": 4,
     "metadata": {},
     "output_type": "execute_result"
    }
   ],
   "source": [
    "# Lets check image shape\n",
    "image.shape"
   ]
  },
  {
   "cell_type": "code",
   "execution_count": 5,
   "id": "16f15225",
   "metadata": {},
   "outputs": [
    {
     "data": {
      "text/plain": [
       "['T-shirt/top',\n",
       " 'Trouser',\n",
       " 'Pullover',\n",
       " 'Dress',\n",
       " 'Coat',\n",
       " 'Sandal',\n",
       " 'Shirt',\n",
       " 'Sneaker',\n",
       " 'Bag',\n",
       " 'Ankle boot']"
      ]
     },
     "execution_count": 5,
     "metadata": {},
     "output_type": "execute_result"
    }
   ],
   "source": [
    "# Lets see all the classes available\n",
    "training_data.classes"
   ]
  },
  {
   "cell_type": "markdown",
   "id": "bf2a7f78",
   "metadata": {},
   "source": [
    "# Task 1:\n",
    "\n",
    "Create a DataLoader objects for train and test"
   ]
  },
  {
   "cell_type": "code",
   "execution_count": 6,
   "id": "2a4e4c37",
   "metadata": {},
   "outputs": [],
   "source": [
    "train_loader = torch.utils.data.DataLoader(training_data, batch_size=32, shuffle=True)\n",
    "test_loader = torch.utils.data.DataLoader(test_data, batch_size=32, shuffle=False)"
   ]
  },
  {
   "cell_type": "markdown",
   "id": "0695343f",
   "metadata": {},
   "source": [
    "# Task 2:\n",
    "\n",
    "Create a Neural Network"
   ]
  },
  {
   "cell_type": "code",
   "execution_count": 7,
   "id": "f9b3d73d",
   "metadata": {},
   "outputs": [
    {
     "name": "stdout",
     "output_type": "stream",
     "text": [
      "Sequential(\n",
      "  (0): Linear(in_features=784, out_features=256, bias=True)\n",
      "  (1): ReLU()\n",
      "  (2): Linear(in_features=256, out_features=128, bias=True)\n",
      "  (3): ReLU()\n",
      "  (4): Linear(in_features=128, out_features=64, bias=True)\n",
      "  (5): ReLU()\n",
      "  (6): Linear(in_features=64, out_features=10, bias=True)\n",
      "  (7): LogSoftmax(dim=1)\n",
      ")\n"
     ]
    }
   ],
   "source": [
    "inp_size = 784\n",
    "hidden_sizes = [256, 128, 64]\n",
    "out_size = 10\n",
    "\n",
    "model = nn.Sequential(nn.Linear(inp_size, hidden_sizes[0]),\n",
    "                     nn.ReLU(),\n",
    "                     nn.Linear(hidden_sizes[0], hidden_sizes[1]),\n",
    "                     nn.ReLU(),\n",
    "                     nn.Linear(hidden_sizes[1], hidden_sizes[2]),\n",
    "                     nn.ReLU(),\n",
    "                     nn.Linear(hidden_sizes[2], out_size),\n",
    "                     nn.LogSoftmax(dim=1))\n",
    "print(model)"
   ]
  },
  {
   "cell_type": "markdown",
   "id": "e13d5117",
   "metadata": {},
   "source": [
    "# Task 3:\n",
    "\n",
    "Specify loss and optimizer"
   ]
  },
  {
   "cell_type": "code",
   "execution_count": 8,
   "id": "8cd11bf9",
   "metadata": {},
   "outputs": [],
   "source": [
    "criterion = nn.NLLLoss()\n",
    "optimizer = torch.optim.SGD(model.parameters(), lr=0.001, momentum=0.9)\n",
    "\n",
    "epochs = 10"
   ]
  },
  {
   "cell_type": "markdown",
   "id": "605caa5b",
   "metadata": {},
   "source": [
    "# Task 3:\n",
    "\n",
    "Train model using for loop"
   ]
  },
  {
   "cell_type": "code",
   "execution_count": 9,
   "id": "a724b721",
   "metadata": {},
   "outputs": [],
   "source": [
    "def train_loop(dataloader, model, loss_f, optimizer):\n",
    "    size = len(dataloader.dataset)\n",
    "    n_batches, correct, train_loss = len(dataloader), 0, 0\n",
    "    \n",
    "    for batch, (X, y) in enumerate(dataloader):\n",
    "        X, y = X.to(device), y.to(device)\n",
    "        X = X.view(X.size(0), -1)\n",
    "        pred = model(X)\n",
    "        loss = loss_f(pred, y)\n",
    "        train_loss += loss.item()\n",
    "        \n",
    "        optimizer.zero_grad()\n",
    "        loss.backward()\n",
    "        optimizer.step()\n",
    "        \n",
    "        correct += (pred.argmax(1) == y).type(torch.float).sum().item()\n",
    "        \n",
    "    correct /= size\n",
    "    train_loss /= n_batches\n",
    "    print(f\"Train Error: \\n Accuracy: {(100*correct):>0.1f}%, Avg loss: {train_loss:>8f} \\n\")\n",
    "        \n",
    "def test_loop(dataloader, model, loss_f):\n",
    "    size = len(dataloader.dataset)\n",
    "    num_batches = len(dataloader)\n",
    "    test_loss, correct = 0, 0\n",
    "    y_preds = torch.tensor([])\n",
    "    y_true = torch.tensor([])\n",
    "    with torch.no_grad():\n",
    "        for X, y in dataloader:\n",
    "            X = X.view(X.size(0), -1)\n",
    "            pred = model(X)\n",
    "            \n",
    "            test_loss += loss_f(pred, y).item()\n",
    "            correct += (pred.argmax(1) == y).type(torch.float).sum().item()\n",
    "            \n",
    "            y_pred = torch.max(torch.exp(pred), 1)[1]\n",
    "            y_preds = torch.cat((y_preds, y_pred), 0)\n",
    "            y_true = torch.cat((y_true, y), 0)\n",
    "        \n",
    "    test_loss /= num_batches\n",
    "    correct /= size\n",
    "    print(f\"Test Error: \\n Accuracy: {(100*correct):>0.1f}%, Avg loss: {test_loss:>8f} \\n\")\n",
    "    \n",
    "    return y_preds, y_true\n",
    "    "
   ]
  },
  {
   "cell_type": "markdown",
   "id": "72d61b00",
   "metadata": {},
   "source": [
    "# Task 4:\n",
    "\n",
    "Report accuracy from train set, and test set independently"
   ]
  },
  {
   "cell_type": "code",
   "execution_count": 10,
   "id": "d129cd18",
   "metadata": {},
   "outputs": [
    {
     "name": "stdout",
     "output_type": "stream",
     "text": [
      "Epoch 1\n",
      "-------------------------------\n",
      "Train Error: \n",
      " Accuracy: 52.2%, Avg loss: 1.340987 \n",
      "\n",
      "Test Error: \n",
      " Accuracy: 70.6%, Avg loss: 0.751704 \n",
      "\n",
      "Epoch 2\n",
      "-------------------------------\n",
      "Train Error: \n",
      " Accuracy: 77.7%, Avg loss: 0.626572 \n",
      "\n",
      "Test Error: \n",
      " Accuracy: 79.5%, Avg loss: 0.578203 \n",
      "\n",
      "Epoch 3\n",
      "-------------------------------\n",
      "Train Error: \n",
      " Accuracy: 81.4%, Avg loss: 0.529282 \n",
      "\n",
      "Test Error: \n",
      " Accuracy: 80.5%, Avg loss: 0.527759 \n",
      "\n",
      "Epoch 4\n",
      "-------------------------------\n",
      "Train Error: \n",
      " Accuracy: 83.1%, Avg loss: 0.480342 \n",
      "\n",
      "Test Error: \n",
      " Accuracy: 81.6%, Avg loss: 0.520545 \n",
      "\n",
      "Epoch 5\n",
      "-------------------------------\n",
      "Train Error: \n",
      " Accuracy: 84.2%, Avg loss: 0.448101 \n",
      "\n",
      "Test Error: \n",
      " Accuracy: 83.2%, Avg loss: 0.480504 \n",
      "\n",
      "Epoch 6\n",
      "-------------------------------\n",
      "Train Error: \n",
      " Accuracy: 85.0%, Avg loss: 0.423473 \n",
      "\n",
      "Test Error: \n",
      " Accuracy: 83.4%, Avg loss: 0.460881 \n",
      "\n",
      "Epoch 7\n",
      "-------------------------------\n",
      "Train Error: \n",
      " Accuracy: 85.7%, Avg loss: 0.403456 \n",
      "\n",
      "Test Error: \n",
      " Accuracy: 84.5%, Avg loss: 0.437400 \n",
      "\n",
      "Epoch 8\n",
      "-------------------------------\n",
      "Train Error: \n",
      " Accuracy: 86.2%, Avg loss: 0.385251 \n",
      "\n",
      "Test Error: \n",
      " Accuracy: 85.2%, Avg loss: 0.405227 \n",
      "\n",
      "Epoch 9\n",
      "-------------------------------\n",
      "Train Error: \n",
      " Accuracy: 87.0%, Avg loss: 0.368840 \n",
      "\n",
      "Test Error: \n",
      " Accuracy: 85.6%, Avg loss: 0.398103 \n",
      "\n",
      "Epoch 10\n",
      "-------------------------------\n",
      "Train Error: \n",
      " Accuracy: 87.2%, Avg loss: 0.354715 \n",
      "\n",
      "Test Error: \n",
      " Accuracy: 85.7%, Avg loss: 0.399265 \n",
      "\n"
     ]
    }
   ],
   "source": [
    "for e in range(epochs):\n",
    "    print(f\"Epoch {e+1}\\n-------------------------------\")\n",
    "    train_loop(train_loader, model, criterion, optimizer)\n",
    "    y_preds, y_true = test_loop(test_loader, model, criterion)"
   ]
  },
  {
   "cell_type": "markdown",
   "id": "0bfcc3eb",
   "metadata": {},
   "source": [
    "# Task 5:\n",
    "\n",
    "Report confussion matrix for the test set\n",
    "\n",
    "Expected format:\n",
    "```\n",
    "array([[0., 0., 0., 0., 0., 0., 0., 0., 0., 0.],\n",
    "       [0., 0., 0., 0., 0., 0., 0., 0., 0., 0.],\n",
    "       [0., 0., 0., 0., 0., 0., 0., 0., 0., 0.],\n",
    "       [0., 0., 0., 0., 0., 0., 0., 0., 0., 0.],\n",
    "       [0., 0., 0., 0., 0., 0., 0., 0., 0., 0.],\n",
    "       [0., 0., 0., 0., 0., 0., 0., 0., 0., 0.],\n",
    "       [0., 0., 0., 0., 0., 0., 0., 0., 0., 0.],\n",
    "       [0., 0., 0., 0., 0., 0., 0., 0., 0., 0.],\n",
    "       [0., 0., 0., 0., 0., 0., 0., 0., 0., 0.],\n",
    "       [0., 0., 0., 0., 0., 0., 0., 0., 0., 0.]])\n",
    "```"
   ]
  },
  {
   "cell_type": "code",
   "execution_count": 11,
   "id": "639829ea",
   "metadata": {},
   "outputs": [
    {
     "name": "stdout",
     "output_type": "stream",
     "text": [
      "Confusion matrix: \n",
      " [[835   2   9  54   6   4  74   0  16   0]\n",
      " [  2 965   0  26   4   0   2   0   1   0]\n",
      " [ 17   7 703  19 165   1  80   0   8   0]\n",
      " [ 22  15   4 894  29   0  29   0   7   0]\n",
      " [  0   2  63  46 799   0  82   0   8   0]\n",
      " [  0   0   0   1   0 922   0  59   3  15]\n",
      " [158   2  90  51  76   0 594   0  29   0]\n",
      " [  0   0   0   0   0  16   0 974   0  10]\n",
      " [  4   1   1   6   3   5   7   8 965   0]\n",
      " [  0   0   0   0   0   6   0  72   1 921]]\n"
     ]
    }
   ],
   "source": [
    "from sklearn.metrics import confusion_matrix\n",
    "\n",
    "cf_matrix = confusion_matrix(y_true, y_preds)\n",
    "print(f'Confusion matrix: \\n {cf_matrix}')"
   ]
  },
  {
   "cell_type": "markdown",
   "id": "ba2a7f90",
   "metadata": {},
   "source": [
    "# Task 6 (optional):\n",
    "\n",
    "Train LogisticRegression and DecisionTree models on the same data\n",
    "Compare their performance to the NN"
   ]
  },
  {
   "cell_type": "code",
   "execution_count": 12,
   "id": "f009b458",
   "metadata": {},
   "outputs": [
    {
     "name": "stdout",
     "output_type": "stream",
     "text": [
      "Logistic Regression accuracy: 9.92% \n",
      "Decision Tree accuracy: 78.82000000000001%\n"
     ]
    }
   ],
   "source": [
    "from sklearn.tree import DecisionTreeClassifier\n",
    "\n",
    "train_data = training_data.data.reshape(-1, 28*28).numpy()\n",
    "train_target = training_data.targets.numpy()\n",
    "\n",
    "testing_data = test_data.data.reshape(-1, 28*28).numpy()\n",
    "test_target = test_data.targets.numpy()\n",
    "\n",
    "class Logistic_Regression(torch.nn.Module):\n",
    "    \n",
    "    def __init__(self, features):\n",
    "        super(Logistic_Regression, self).__init__()\n",
    "        self.layer1 = torch.nn.Linear(features,256)\n",
    "        self.layer2 = torch.nn.Linear(256,128)\n",
    "        self.layer3 = torch.nn.Linear(128, 64)\n",
    "        self.layer4 = torch.nn.Linear(64, 10)\n",
    "        \n",
    "    def forward(self,x):\n",
    "        y_predicted = self.layer1(x)\n",
    "        y_predicted = torch.sigmoid(self.layer2(y_predicted))\n",
    "        y_predicted = torch.sigmoid(self.layer3(y_predicted))\n",
    "        y_predicted = torch.sigmoid(self.layer4(y_predicted))\n",
    "        return y_predicted\n",
    "    \n",
    "lr_model = Logistic_Regression(784)\n",
    "for e in range(epochs):\n",
    "    for batch, (X, y) in enumerate(train_loader):\n",
    "        X, y = X.to(device), y.to(device)\n",
    "        y_prediction_lr = lr_model.forward((X.view(X.size(0), -1)))\n",
    "        loss_lr = criterion(y_prediction_lr, y)\n",
    "        optimizer.zero_grad()\n",
    "        loss_lr.backward()\n",
    "        optimizer.step()\n",
    "        \n",
    "size_lr = len(test_loader.dataset)\n",
    "correct_lr = 0\n",
    "with torch.no_grad():\n",
    "    for batch, (X, y) in enumerate(test_loader):\n",
    "        X, y = X.to(device), y.to(device)\n",
    "        y_prediction_lr_test = lr_model.forward((X.view(X.size(0), -1)))\n",
    "        correct_lr += (y_prediction_lr_test.argmax(1) == y).type(torch.float).sum().item()\n",
    "acc_lr = correct_lr/size_lr \n",
    "\n",
    "dtree_model = DecisionTreeClassifier()\n",
    "prediction_dtree = dtree_model.fit(train_data, train_target).predict(testing_data)\n",
    "acc_dtree = (prediction_dtree == test_target).sum()/len(test_target)\n",
    "\n",
    "print(\"Logistic Regression accuracy: {acc_1}% \\nDecision Tree accuracy: {acc_2}%\".format(acc_1=acc_lr*100, acc_2=acc_dtree*100))\n"
   ]
  },
  {
   "cell_type": "code",
   "execution_count": null,
   "id": "628ff6cb",
   "metadata": {},
   "outputs": [],
   "source": []
  }
 ],
 "metadata": {
  "kernelspec": {
   "display_name": "Python 3 (ipykernel)",
   "language": "python",
   "name": "python3"
  },
  "language_info": {
   "codemirror_mode": {
    "name": "ipython",
    "version": 3
   },
   "file_extension": ".py",
   "mimetype": "text/x-python",
   "name": "python",
   "nbconvert_exporter": "python",
   "pygments_lexer": "ipython3",
   "version": "3.9.7"
  }
 },
 "nbformat": 4,
 "nbformat_minor": 5
}
